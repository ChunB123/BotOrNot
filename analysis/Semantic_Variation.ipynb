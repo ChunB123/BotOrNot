{
  "nbformat": 4,
  "nbformat_minor": 0,
  "metadata": {
    "colab": {
      "provenance": []
    },
    "kernelspec": {
      "name": "python3",
      "display_name": "Python 3"
    },
    "language_info": {
      "name": "python"
    }
  },
  "cells": [
    {
      "cell_type": "markdown",
      "source": [
        "# Semantic Variation Study"
      ],
      "metadata": {
        "id": "kOY20mbqgsU5"
      }
    },
    {
      "cell_type": "markdown",
      "source": [
        "## Functions and Libraries"
      ],
      "metadata": {
        "id": "i18VLDsYgyF4"
      }
    },
    {
      "cell_type": "code",
      "source": [
        "import pandas as pd\n",
        "import numpy as np\n",
        "from transformers import AutoTokenizer, AutoModel\n",
        "import torch\n",
        "import matplotlib.pyplot as plt"
      ],
      "metadata": {
        "id": "wDeE-BhGgvSL"
      },
      "execution_count": 31,
      "outputs": []
    },
    {
      "cell_type": "markdown",
      "source": [
        "## BERTweet"
      ],
      "metadata": {
        "id": "SzcdU6WHg5n1"
      }
    },
    {
      "cell_type": "code",
      "source": [
        "# Load TweetBERT for embedding\n",
        "tokenizer = AutoTokenizer.from_pretrained(\"vinai/bertweet-base\")\n",
        "model = AutoModel.from_pretrained(\"vinai/bertweet-base\")"
      ],
      "metadata": {
        "colab": {
          "base_uri": "https://localhost:8080/"
        },
        "id": "Atggd4GBg24m",
        "outputId": "abbdac2e-a7eb-414b-a2cb-53e53c0412bb"
      },
      "execution_count": 32,
      "outputs": [
        {
          "output_type": "stream",
          "name": "stderr",
          "text": [
            "emoji is not installed, thus not converting emoticons or emojis into text. Install emoji: pip3 install emoji==0.6.0\n"
          ]
        }
      ]
    },
    {
      "cell_type": "markdown",
      "source": [
        "## Analysis"
      ],
      "metadata": {
        "id": "acWagou-r-qy"
      }
    },
    {
      "cell_type": "code",
      "source": [
        "def calculate_semantic_variation(data, gen_title, model, tokenizer):\n",
        "  topics = data['prompt'].unique()\n",
        "  variation_scores = {}\n",
        "\n",
        "  for topic in topics:\n",
        "    print(f\"Processing topic: {topic}\")  # Print the topic being processed\n",
        "    topic_data = data[data['prompt'] == topic][gen_title].tolist()\n",
        "    inputs = tokenizer(topic_data, padding=True, truncation=True, return_tensors=\"pt\")\n",
        "\n",
        "    with torch.no_grad():\n",
        "      outputs = model(**inputs)\n",
        "      embeddings = outputs.last_hidden_state.mean(dim=1)\n",
        "\n",
        "    cosine_sim = torch.nn.functional.cosine_similarity\n",
        "    n = embeddings.size(0)\n",
        "    pairwise_similarities = [\n",
        "            cosine_sim(embeddings[i], embeddings[j], dim=0).item()\n",
        "            for i in range(n) for j in range(i + 1, n)\n",
        "            ]\n",
        "\n",
        "    # Calculate the Variation\n",
        "    average_similarity = np.mean(pairwise_similarities)\n",
        "    variation_scores[topic] = 1 - average_similarity\n",
        "\n",
        "  return variation_scores"
      ],
      "metadata": {
        "id": "o6d_fkXrg85b"
      },
      "execution_count": 49,
      "outputs": []
    },
    {
      "cell_type": "code",
      "source": [
        "# 'human_baseline', 'Gemini', 'Phi-14B', 'Phi-Tweet'\n",
        "models = [\n",
        "    {\n",
        "        \"model\": \"human_baseline\",\n",
        "        \"file\": \"/content/sample_data/human_tweets_baseline.csv\",\n",
        "        \"generation_title\": \"human tweets\"\n",
        "    },{\n",
        "        \"model\": \"Gemini\",\n",
        "        \"file\": \"/content/sample_data/gemini_baseline.csv\",\n",
        "        \"generation_title\": \"human tweets\"\n",
        "    },{\n",
        "        \"model\": \"Phi-14B\",\n",
        "        \"file\": \"/content/sample_data/14B_3shots_real.csv\",\n",
        "        \"generation_title\": \"microsoft/Phi-3-medium-4k-instruct\"\n",
        "    },{\n",
        "        \"model\": \"Phi-Tweet\",\n",
        "        \"file\": \"/content/sample_data/100k_3_shots_post_real.csv\",\n",
        "        \"generation_title\": \"AlanYky/phi-3.5_tweets_instruct\"\n",
        "    }\n",
        "]\n",
        "\n",
        "results = {}"
      ],
      "metadata": {
        "id": "nC2Uwb-wq_6Q"
      },
      "execution_count": 50,
      "outputs": []
    },
    {
      "cell_type": "code",
      "source": [
        "for model_name in models:\n",
        "    print(f\"Processing Model: {model_name['model']}\")\n",
        "    data = pd.read_csv(model_name[\"file\"])  # Assuming a CSV format\n",
        "    results[model_name[\"model\"]] = calculate_semantic_variation(\n",
        "        data,\n",
        "        model_name[\"generation_title\"],\n",
        "        model,\n",
        "        tokenizer,\n",
        "      )\n",
        "    print(\"----------\")"
      ],
      "metadata": {
        "colab": {
          "base_uri": "https://localhost:8080/"
        },
        "id": "_WijJ0MgtmoQ",
        "outputId": "ee29d7ef-f49b-493d-f855-7b2a8276832d"
      },
      "execution_count": 51,
      "outputs": [
        {
          "output_type": "stream",
          "name": "stdout",
          "text": [
            "Processing Model: human_baseline\n",
            "Processing topic: palestinian\n",
            "Processing topic: donald\n",
            "Processing topic: black friday\n",
            "Processing topic: Tax Break\n",
            "Processing topic: Ukraine\n",
            "Processing topic: NBA\n",
            "Processing topic: Taylor Swift\n",
            "Processing topic: Mbappe\n",
            "Processing topic: curry\n",
            "Processing topic: las\n",
            "Processing topic: montreal\n",
            "Processing topic: squid\n",
            "Processing topic: halloween\n",
            "Processing topic: work\n",
            "Processing topic: zero\n",
            "Processing topic: Trudeau\n",
            "Processing topic: trump\n",
            "Processing topic: ChatGPT\n",
            "Processing topic: Biden\n",
            "Processing topic: LeBron\n",
            "Processing topic: tech\n",
            "Processing topic: SpaceX\n",
            "Processing topic: AI\n",
            "Processing topic: iphone\n",
            "Processing topic: apple\n",
            "----------\n",
            "Processing Model: Gemini\n",
            "Processing topic: Palestinian\n",
            "Processing topic: Donald Trump 2025 President\n",
            "Processing topic: Black Friday 2024\n",
            "Processing topic: Tax Break Canada\n",
            "Processing topic: Ukraine Russia war\n",
            "Processing topic: NBA Final\n",
            "Processing topic: Taylor Swift 2024\n",
            "Processing topic: Mbappe\n",
            "Processing topic: Stephen Curry is GOAT\n",
            "Processing topic: Las Vegas GP\n",
            "Processing topic: Montreal\n",
            "Processing topic: Squid Game 2\n",
            "Processing topic: Halloween Costume\n",
            "Processing topic: Work-Life Balance\n",
            "Processing topic: zero-carbon lifestyle\n",
            "Processing topic: Trudeau National Disgrace\n",
            "Processing topic: Trump is Hitler\n",
            "Processing topic: ChatGPT controls human\n",
            "Processing topic: Joe Biden is dead\n",
            "Processing topic: LeBron James should retire\n",
            "Processing topic: Tech layoff\n",
            "Processing topic: SpaceX successful launch\n",
            "Processing topic: The Age of AI\n",
            "Processing topic: iPhone 16\n",
            "Processing topic: Apple Intelligence\n",
            "----------\n",
            "Processing Model: Phi-14B\n",
            "Processing topic: Could you generate a tweet about Palestinian?\n",
            "Processing topic: Could you generate a tweet about Donald Trump 2025 President?\n",
            "Processing topic: Could you generate a tweet about Black Friday 2024?\n",
            "Processing topic: Could you generate a tweet about Tax Break Canada?\n",
            "Processing topic: Could you generate a tweet about Ukraine Russia war?\n",
            "Processing topic: Could you generate a tweet about NBA Final?\n",
            "Processing topic: Could you generate a tweet about Taylor Swift 2024?\n",
            "Processing topic: Could you generate a tweet about Mbappe?\n",
            "Processing topic: Could you generate a tweet about Stephen Curry is GOAT?\n",
            "Processing topic: Could you generate a tweet about Las Vegas GP?\n",
            "Processing topic: Could you generate a tweet about Montreal?\n",
            "Processing topic: Could you generate a tweet about Squid Game 2?\n",
            "Processing topic: Could you generate a tweet about Halloween Costume?\n",
            "Processing topic: Could you generate a tweet about Work-Life Balance?\n",
            "Processing topic: Could you generate a tweet about zero-carbon lifestyle?\n",
            "Processing topic: Could you generate a tweet about Trudeau National Disgrace?\n",
            "Processing topic: Could you generate a tweet about Trump is Hitler?\n",
            "Processing topic: Could you generate a tweet about ChatGPT controls human?\n",
            "Processing topic: Could you generate a tweet about Joe Biden is dead?\n",
            "Processing topic: Could you generate a tweet about LeBron James should retire?\n",
            "Processing topic: Could you generate a tweet about Tech layoff?\n",
            "Processing topic: Could you generate a tweet about SpaceX successful launch?\n",
            "Processing topic: Could you generate a tweet about The Age of AI?\n",
            "Processing topic: Could you generate a tweet about iPhone 16?\n",
            "Processing topic: Could you generate a tweet about Apple Intelligence?\n",
            "----------\n",
            "Processing Model: Phi-Tweet\n",
            "Processing topic: Could you generate a tweet about Palestinian?\n",
            "Processing topic: Could you generate a tweet about Donald Trump 2025 President?\n",
            "Processing topic: Could you generate a tweet about Black Friday 2024?\n",
            "Processing topic: Could you generate a tweet about Tax Break Canada?\n",
            "Processing topic: Could you generate a tweet about Ukraine Russia war?\n",
            "Processing topic: Could you generate a tweet about NBA Final?\n",
            "Processing topic: Could you generate a tweet about Taylor Swift 2024?\n",
            "Processing topic: Could you generate a tweet about Mbappe?\n",
            "Processing topic: Could you generate a tweet about Stephen Curry is GOAT?\n",
            "Processing topic: Could you generate a tweet about Las Vegas GP?\n",
            "Processing topic: Could you generate a tweet about Montreal?\n",
            "Processing topic: Could you generate a tweet about Squid Game 2?\n",
            "Processing topic: Could you generate a tweet about Halloween Costume?\n",
            "Processing topic: Could you generate a tweet about Work-Life Balance?\n",
            "Processing topic: Could you generate a tweet about zero-carbon lifestyle?\n",
            "Processing topic: Could you generate a tweet about Trudeau National Disgrace?\n",
            "Processing topic: Could you generate a tweet about Trump is Hitler?\n",
            "Processing topic: Could you generate a tweet about ChatGPT controls human?\n",
            "Processing topic: Could you generate a tweet about Joe Biden is dead?\n",
            "Processing topic: Could you generate a tweet about LeBron James should retire?\n",
            "Processing topic: Could you generate a tweet about Tech layoff?\n",
            "Processing topic: Could you generate a tweet about SpaceX successful launch?\n",
            "Processing topic: Could you generate a tweet about The Age of AI?\n",
            "Processing topic: Could you generate a tweet about iPhone 16?\n",
            "Processing topic: Could you generate a tweet about Apple Intelligence?\n",
            "----------\n"
          ]
        }
      ]
    },
    {
      "cell_type": "code",
      "source": [
        "results"
      ],
      "metadata": {
        "colab": {
          "base_uri": "https://localhost:8080/"
        },
        "id": "b62HmF225GB6",
        "outputId": "67570322-a85a-49b6-eb61-2a030219d6fc"
      },
      "execution_count": 52,
      "outputs": [
        {
          "output_type": "execute_result",
          "data": {
            "text/plain": [
              "{'human_baseline': {'palestinian': 0.3076130443149143,\n",
              "  'donald': 0.2700937489668528,\n",
              "  'black friday': 0.3394465446472168,\n",
              "  'Tax Break': 0.2879902561505635,\n",
              "  'Ukraine': 0.32140243947505953,\n",
              "  'NBA': 0.377784808476766,\n",
              "  'Taylor Swift': 0.3612773931688733,\n",
              "  'Mbappe': 0.278171753221088,\n",
              "  'curry': 0.3630094160636266,\n",
              "  'las': 0.3146515273385577,\n",
              "  'montreal': 0.261732855770323,\n",
              "  'squid': 0.21200266149308944,\n",
              "  'halloween': 0.2888292676872677,\n",
              "  'work': 0.3310419102509816,\n",
              "  'zero': 0.32033533387713964,\n",
              "  'Trudeau': 0.27662461499373114,\n",
              "  'trump': 0.31175270179907477,\n",
              "  'ChatGPT': 0.27128927508989975,\n",
              "  'Biden': 0.30520281030072105,\n",
              "  'LeBron': 0.36075796816084116,\n",
              "  'tech': 0.3408950060606003,\n",
              "  'SpaceX': 0.3250371946228875,\n",
              "  'AI': 0.27551153765784364,\n",
              "  'iphone': 0.31825325588385267,\n",
              "  'apple': 0.38206593592961624},\n",
              " 'Gemini': {'Palestinian': 0.19715567297405667,\n",
              "  'Donald Trump 2025 President': 0.05019453499052262,\n",
              "  'Black Friday 2024': 0.1646307932005988,\n",
              "  'Tax Break Canada': 0.2284564713637034,\n",
              "  'Ukraine Russia war': 0.19948272042804294,\n",
              "  'NBA Final': 0.09464406702253558,\n",
              "  'Taylor Swift 2024': 0.22775867713822262,\n",
              "  'Mbappe': 0.16837041510476003,\n",
              "  'Stephen Curry is GOAT': 0.15128014882405594,\n",
              "  'Las Vegas GP': 0.18797867165671456,\n",
              "  'Montreal': 0.2427386403083801,\n",
              "  'Squid Game 2': 0.2200929264227549,\n",
              "  'Halloween Costume': 0.22038223081164887,\n",
              "  'Work-Life Balance': 0.19409380091561212,\n",
              "  'zero-carbon lifestyle': 0.1435716297891405,\n",
              "  'Trudeau National Disgrace': 0.08276304668850365,\n",
              "  'Trump is Hitler': 0.11866360637876727,\n",
              "  'ChatGPT controls human': 0.12227502399020729,\n",
              "  'Joe Biden is dead': 0.05871953301959565,\n",
              "  'LeBron James should retire': 0.10978339513142898,\n",
              "  'Tech layoff': 0.1547714140680101,\n",
              "  'SpaceX successful launch': 0.2083360804451837,\n",
              "  'The Age of AI': 0.13076281547546387,\n",
              "  'iPhone 16': 0.21462260882059736,\n",
              "  'Apple Intelligence': 0.17503448857201476},\n",
              " 'Phi-14B': {'Could you generate a tweet about Palestinian?': 0.24689743253919816,\n",
              "  'Could you generate a tweet about Donald Trump 2025 President?': 0.15605900949902007,\n",
              "  'Could you generate a tweet about Black Friday 2024?': 0.08034908639060123,\n",
              "  'Could you generate a tweet about Tax Break Canada?': 0.18316986759503684,\n",
              "  'Could you generate a tweet about Ukraine Russia war?': 0.1400525795088874,\n",
              "  'Could you generate a tweet about NBA Final?': 0.19346779055065577,\n",
              "  'Could you generate a tweet about Taylor Swift 2024?': 0.13220460282431712,\n",
              "  'Could you generate a tweet about Mbappe?': 0.10955504046546083,\n",
              "  'Could you generate a tweet about Stephen Curry is GOAT?': 0.213577663898468,\n",
              "  'Could you generate a tweet about Las Vegas GP?': 0.11199788782331677,\n",
              "  'Could you generate a tweet about Montreal?': 0.12223191791110566,\n",
              "  'Could you generate a tweet about Squid Game 2?': 0.17535611126157968,\n",
              "  'Could you generate a tweet about Halloween Costume?': 0.13042785856458872,\n",
              "  'Could you generate a tweet about Work-Life Balance?': 0.08202367358737517,\n",
              "  'Could you generate a tweet about zero-carbon lifestyle?': 0.1040761020448473,\n",
              "  'Could you generate a tweet about Trudeau National Disgrace?': 0.1452965908580356,\n",
              "  'Could you generate a tweet about Trump is Hitler?': 0.15568841960695057,\n",
              "  'Could you generate a tweet about ChatGPT controls human?': 0.12325590186648894,\n",
              "  'Could you generate a tweet about Joe Biden is dead?': 0.1008703509966532,\n",
              "  'Could you generate a tweet about LeBron James should retire?': 0.1890731831391652,\n",
              "  'Could you generate a tweet about Tech layoff?': 0.18664616280131874,\n",
              "  'Could you generate a tweet about SpaceX successful launch?': 0.11897946861055164,\n",
              "  'Could you generate a tweet about The Age of AI?': 0.15640886757108896,\n",
              "  'Could you generate a tweet about iPhone 16?': 0.13272299369176233,\n",
              "  'Could you generate a tweet about Apple Intelligence?': 0.19655340115229292},\n",
              " 'Phi-Tweet': {'Could you generate a tweet about Palestinian?': 0.21187933683395388,\n",
              "  'Could you generate a tweet about Donald Trump 2025 President?': 0.19744427469041614,\n",
              "  'Could you generate a tweet about Black Friday 2024?': 0.2547898736264971,\n",
              "  'Could you generate a tweet about Tax Break Canada?': 0.20690753459930422,\n",
              "  'Could you generate a tweet about Ukraine Russia war?': 0.22833144002490569,\n",
              "  'Could you generate a tweet about NBA Final?': 0.2188630594147576,\n",
              "  'Could you generate a tweet about Taylor Swift 2024?': 0.21455693046251934,\n",
              "  'Could you generate a tweet about Mbappe?': 0.19770322375827365,\n",
              "  'Could you generate a tweet about Stephen Curry is GOAT?': 0.25035601324505274,\n",
              "  'Could you generate a tweet about Las Vegas GP?': 0.17661114533742273,\n",
              "  'Could you generate a tweet about Montreal?': 0.24468722078535288,\n",
              "  'Could you generate a tweet about Squid Game 2?': 0.19614326026704576,\n",
              "  'Could you generate a tweet about Halloween Costume?': 0.20559972657097714,\n",
              "  'Could you generate a tweet about Work-Life Balance?': 0.19300686783260768,\n",
              "  'Could you generate a tweet about zero-carbon lifestyle?': 0.19339442385567562,\n",
              "  'Could you generate a tweet about Trudeau National Disgrace?': 0.23592251539230347,\n",
              "  'Could you generate a tweet about Trump is Hitler?': 0.22369745969772337,\n",
              "  'Could you generate a tweet about ChatGPT controls human?': 0.1724982804722256,\n",
              "  'Could you generate a tweet about Joe Biden is dead?': 0.18997040457195702,\n",
              "  'Could you generate a tweet about LeBron James should retire?': 0.26336447530322604,\n",
              "  'Could you generate a tweet about Tech layoff?': 0.23591402967770891,\n",
              "  'Could you generate a tweet about SpaceX successful launch?': 0.22638417879740402,\n",
              "  'Could you generate a tweet about The Age of AI?': 0.1836355249087016,\n",
              "  'Could you generate a tweet about iPhone 16?': 0.2073925190501743,\n",
              "  'Could you generate a tweet about Apple Intelligence?': 0.22734781106313073}}"
            ]
          },
          "metadata": {},
          "execution_count": 52
        }
      ]
    },
    {
      "cell_type": "code",
      "source": [
        "# Aggregate Results\n",
        "aggregate_results = {\n",
        "    model: {\n",
        "        \"mean_variation\": np.mean(list(scores.values())),\n",
        "        \"std_variation\": np.std(list(scores.values()))\n",
        "    }\n",
        "    for model, scores in results.items()\n",
        "}"
      ],
      "metadata": {
        "id": "IR9ChmlgvVwD"
      },
      "execution_count": 53,
      "outputs": []
    },
    {
      "cell_type": "code",
      "source": [
        "aggregate_results"
      ],
      "metadata": {
        "colab": {
          "base_uri": "https://localhost:8080/"
        },
        "id": "5jcx1KB05MAP",
        "outputId": "00ce209f-9c28-4ac3-8e4c-55d7cc9f64ee"
      },
      "execution_count": 54,
      "outputs": [
        {
          "output_type": "execute_result",
          "data": {
            "text/plain": [
              "{'human_baseline': {'mean_variation': 0.31211093045605554,\n",
              "  'std_variation': 0.039907257563699686},\n",
              " 'Gemini': {'mean_variation': 0.16266253654162088,\n",
              "  'std_variation': 0.05409580501842561},\n",
              " 'Phi-14B': {'mean_variation': 0.14747767859035066,\n",
              "  'std_variation': 0.04132526114270169},\n",
              " 'Phi-Tweet': {'mean_variation': 0.21425606120957266,\n",
              "  'std_variation': 0.024075582750604715}}"
            ]
          },
          "metadata": {},
          "execution_count": 54
        }
      ]
    },
    {
      "cell_type": "code",
      "source": [
        "models_names = [model['model'] for model in models]\n",
        "models_names"
      ],
      "metadata": {
        "colab": {
          "base_uri": "https://localhost:8080/"
        },
        "id": "tjtmK_qn57Ke",
        "outputId": "7c0bb31b-d85b-4e37-e116-29d2114145ac"
      },
      "execution_count": 62,
      "outputs": [
        {
          "output_type": "execute_result",
          "data": {
            "text/plain": [
              "['human_baseline', 'Gemini', 'Phi-14B', 'Phi-Tweet']"
            ]
          },
          "metadata": {},
          "execution_count": 62
        }
      ]
    },
    {
      "cell_type": "code",
      "source": [
        "# Display Aggregate Results\n",
        "print(pd.DataFrame(aggregate_results).T)\n",
        "\n",
        "# Visualization: Bar Chart\n",
        "plt.figure(figsize=(10, 6))\n",
        "means = [aggregate_results[model]['mean_variation'] for model in models_names]\n",
        "stds = [aggregate_results[model]['std_variation'] for model in models_names]\n",
        "plt.bar(models_names, means, yerr=stds, capsize=5, color='skyblue', edgecolor='black')\n",
        "plt.title(\"Tweets Semantic Variation Across Models\")\n",
        "plt.ylabel(\"Mean Variation Score\")\n",
        "plt.xlabel(\"Model\")\n",
        "plt.show()\n",
        "\n",
        "# Visualization: Box Plot\n",
        "all_variations = [list(scores.values()) for scores in results.values()]\n",
        "plt.figure(figsize=(12, 6))\n",
        "plt.boxplot(all_variations, labels=models_names, showmeans=True)\n",
        "plt.title(\"Distribution of Semantic Variation by Model\")\n",
        "plt.ylabel(\"Variation Score\")\n",
        "plt.xlabel(\"Model\")\n",
        "plt.show()"
      ],
      "metadata": {
        "colab": {
          "base_uri": "https://localhost:8080/",
          "height": 1000
        },
        "id": "arMeyBLJwN-J",
        "outputId": "0bbb2ac8-6d88-4910-8127-1c3419a72a66"
      },
      "execution_count": 64,
      "outputs": [
        {
          "output_type": "stream",
          "name": "stdout",
          "text": [
            "                mean_variation  std_variation\n",
            "human_baseline        0.312111       0.039907\n",
            "Gemini                0.162663       0.054096\n",
            "Phi-14B               0.147478       0.041325\n",
            "Phi-Tweet             0.214256       0.024076\n"
          ]
        },
        {
          "output_type": "display_data",
          "data": {
            "text/plain": [
              "<Figure size 1000x600 with 1 Axes>"
            ],
            "image/png": "[encoded data removed]"
          },
          "metadata": {}
        },
        {
          "output_type": "display_data",
          "data": {
            "text/plain": [
              "<Figure size 1200x600 with 1 Axes>"
            ],
            "image/png": "[encoded data removed]"
          },
          "metadata": {}
        }
      ]
    },
    {
      "cell_type": "code",
      "source": [],
      "metadata": {
        "id": "0fPTzaIR-DbD"
      },
      "execution_count": null,
      "outputs": []
    },
    {
      "cell_type": "markdown",
      "source": [
        "### Higher Variation = Higher Creativity + More Diverse -> Human-Like Tweets\n",
        "\n",
        "- Moderate Semantic Variation: Phi-Tweet achieves a mean variation of 0.214, closer to human-like diversity compared to other models (Gemini: 0.163, Phi-14B: 0.147), but still significantly below the human baseline (0.312).\n",
        "\n",
        "- Consistency Across Topics: Phi-Tweet has the lowest standard deviation (0.024), indicating consistent performance across topics, though with less variation than humans.\n",
        "\n",
        "- Room for Improvement: While Phi-Tweet outperforms Gemini and Phi-14B in diversity, it still lacks the creativity and semantic richness of human-generated tweets.\n",
        "\n"
      ],
      "metadata": {
        "id": "K2QRmJG1_V1U"
      }
    },
    {
      "cell_type": "code",
      "source": [],
      "metadata": {
        "id": "V5hiSKJ8_kaj"
      },
      "execution_count": null,
      "outputs": []
    }
  ]
}