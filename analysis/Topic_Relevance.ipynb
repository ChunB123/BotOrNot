{
 "cells": [
  {
   "cell_type": "markdown",
   "source": [
    "# Topic Relevance"
   ],
   "metadata": {
    "collapsed": false
   },
   "id": "90b3421df3935426"
  },
  {
   "cell_type": "markdown",
   "source": [
    "## Configuration"
   ],
   "metadata": {
    "collapsed": false
   },
   "id": "dc4f83500b89898a"
  },
  {
   "cell_type": "code",
   "outputs": [
    {
     "name": "stderr",
     "output_type": "stream",
     "text": [
      "/Users/alanyang/Library/Python/3.9/lib/python/site-packages/urllib3/__init__.py:34: NotOpenSSLWarning: urllib3 v2 only supports OpenSSL 1.1.1+, currently the 'ssl' module is compiled with 'LibreSSL 2.8.3'. See: https://github.com/urllib3/urllib3/issues/3020\n",
      "  warnings.warn(\n"
     ]
    }
   ],
   "source": [
    "import pandas as pd\n",
    "import numpy as np\n",
    "from transformers import AutoTokenizer, AutoModel\n",
    "import torch\n",
    "import matplotlib.pyplot as plt"
   ],
   "metadata": {
    "collapsed": true,
    "ExecuteTime": {
     "end_time": "2024-11-27T21:57:27.682136Z",
     "start_time": "2024-11-27T21:57:24.964894Z"
    }
   },
   "id": "initial_id",
   "execution_count": 1
  },
  {
   "cell_type": "code",
   "outputs": [
    {
     "name": "stderr",
     "output_type": "stream",
     "text": [
      "/Users/alanyang/Library/Python/3.9/lib/python/site-packages/huggingface_hub/file_download.py:797: FutureWarning: `resume_download` is deprecated and will be removed in version 1.0.0. Downloads always resume when possible. If you want to force a new download, use `force_download=True`.\n",
      "  warnings.warn(\n",
      "emoji is not installed, thus not converting emoticons or emojis into text. Install emoji: pip3 install emoji==0.6.0\n"
     ]
    }
   ],
   "source": [
    "# Load TweetBERT for embedding\n",
    "tokenizer = AutoTokenizer.from_pretrained(\"vinai/bertweet-base\")\n",
    "model = AutoModel.from_pretrained(\"vinai/bertweet-base\")"
   ],
   "metadata": {
    "collapsed": false,
    "ExecuteTime": {
     "end_time": "2024-11-27T23:30:30.410621Z",
     "start_time": "2024-11-27T23:30:29.065075Z"
    }
   },
   "id": "4f539deb46eb3865",
   "execution_count": 235
  },
  {
   "cell_type": "code",
   "outputs": [],
   "source": [
    "real_world_topic = [\n",
    "    \"Montreal pro-Palestinian strikes\",\n",
    "    \"Donald Trump 2025 President\",\n",
    "    \"Black Friday 2024\",\n",
    "    \"Tax Break Canada\",\n",
    "    \"Ukraine Russia war\",\n",
    "    \"NBA Final\",\n",
    "    \"Taylor Swift 2024 Toronto Tour\",\n",
    "    \"Mbappe\",\n",
    "    \"Stephen Curry is GOAT\",\n",
    "    \"Las Vegas GP\",\n",
    "    \"Montreal\",\n",
    "    \"Squid Game 2\",\n",
    "    \"Halloween Costume\",\n",
    "    \"Work-Life Balance\",\n",
    "    \"zero-carbon lifestyle\",\n",
    "    \"Trudeau National Disgrace\",\n",
    "    \"Trump is Hitler\",\n",
    "    \"ChatGPT controls human\",\n",
    "    \"Joe Biden is dead\",\n",
    "    \"LeBron James should retire\",\n",
    "    \"Tech layoff\",\n",
    "    \"SpaceX successful launch\",\n",
    "    \"The Age of AI\",\n",
    "    \"iPhone 16\",\n",
    "    \"Apple Intelligence\"\n",
    "]"
   ],
   "metadata": {
    "collapsed": false,
    "ExecuteTime": {
     "end_time": "2024-11-27T23:32:07.423436Z",
     "start_time": "2024-11-27T23:32:07.419865Z"
    }
   },
   "id": "7d05501ad746db5c",
   "execution_count": 250
  },
  {
   "cell_type": "code",
   "outputs": [],
   "source": [
    "# Define models and their respective datasets\n",
    "models = [\n",
    "    {\n",
    "        \"model\": \"Gemini\",\n",
    "        \"file\": \"../eval/gemini_baseline.csv\",\n",
    "        \"generation_title\": \"human tweets\"\n",
    "    },{\n",
    "        \"model\": \"Phi-14B\",\n",
    "        \"file\": \"../eval/14B_3shots_real.csv\",\n",
    "        \"generation_title\": \"microsoft/Phi-3-medium-4k-instruct\"\n",
    "    },{\n",
    "        \"model\": \"Phi-Tweet\",\n",
    "        \"file\": \"../eval/100k_3_shots_post_real.csv\",\n",
    "        \"generation_title\": \"AlanYky/phi-3.5_tweets_instruct\"\n",
    "    },{\n",
    "        \"model\": \"Phi-Tweet-RAG\",\n",
    "        \"file\": \"../eval/100k_3shots_rag_post_real.csv\",\n",
    "        \"generation_title\": \"AlanYky/phi-3.5_tweets_instruct\"\n",
    "    }\n",
    "]"
   ],
   "metadata": {
    "collapsed": false,
    "ExecuteTime": {
     "end_time": "2024-11-27T23:32:07.670Z",
     "start_time": "2024-11-27T23:32:07.666610Z"
    }
   },
   "id": "2345b03ddd6424b8",
   "execution_count": 251
  },
  {
   "cell_type": "code",
   "outputs": [],
   "source": [
    "threshold = 0.47 # Higher than the topic relevance threshold -> Consider as Topic-Relevance to the User Input\n",
    "results = {}"
   ],
   "metadata": {
    "collapsed": false,
    "ExecuteTime": {
     "end_time": "2024-11-27T23:40:53.434119Z",
     "start_time": "2024-11-27T23:40:53.431242Z"
    }
   },
   "id": "203d03dbee29caa7",
   "execution_count": 292
  },
  {
   "cell_type": "code",
   "outputs": [],
   "source": [],
   "metadata": {
    "collapsed": false,
    "ExecuteTime": {
     "end_time": "2024-11-27T23:40:53.674487Z",
     "start_time": "2024-11-27T23:40:53.672308Z"
    }
   },
   "id": "ea242f268c72a3e7",
   "execution_count": 292
  },
  {
   "cell_type": "markdown",
   "source": [
    "## Topic Relevance Score"
   ],
   "metadata": {
    "collapsed": false
   },
   "id": "6f91802fb0ce6008"
  },
  {
   "cell_type": "code",
   "outputs": [],
   "source": [
    "def align_prompts_to_topics(\n",
    "        csv_file, \n",
    "        topic_list, \n",
    "        rows_per_topic=10\n",
    "):\n",
    "    # Load the CSV file into a DataFrame\n",
    "    data = pd.read_csv(csv_file)\n",
    "\n",
    "    # Generate the new 'prompt' column based on the topic list\n",
    "    total_rows = len(data)\n",
    "    expected_rows = len(topic_list) * rows_per_topic\n",
    "\n",
    "    if total_rows != expected_rows:\n",
    "        raise ValueError(f\"Mismatch in rows. Expected {expected_rows}, but got {total_rows}.\")\n",
    "\n",
    "    # Create a new prompt list aligned with topics\n",
    "    new_prompts = []\n",
    "    for topic in topic_list:\n",
    "        new_prompts.extend([topic] * rows_per_topic)\n",
    "\n",
    "    # Assign the new prompts to the 'prompt' column\n",
    "    data['prompt'] = new_prompts\n",
    "    return data\n",
    "\n",
    "def filter_invalid_generations(data, gen_title):\n",
    "    # Replace invalid generations with an empty string\n",
    "    data[gen_title] = data[gen_title].apply(lambda x: \"\" if str(x).lower().startswith(\"i cannot\") else x)\n",
    "\n",
    "    # Filter out rows where the generation is now an empty string\n",
    "    filtered_data = data[data[gen_title] != \"\"]\n",
    "\n",
    "    return filtered_data\n",
    "\n",
    "\n",
    "def calculate_topic_relevance(\n",
    "        data, \n",
    "        gen_title, \n",
    "        model, \n",
    "        tokenizer, \n",
    "        threshold=0.6\n",
    "):\n",
    "    \"\"\"\n",
    "    Calculate the topic relevance score for generated tweets.\n",
    "    \"\"\"\n",
    "    topics = data['prompt'].unique()\n",
    "    relevance_scores = {}\n",
    "\n",
    "    for topic in topics:\n",
    "        print(f\"Processing topic: {topic}\")\n",
    "        topic_data = data[data['prompt'] == topic][gen_title].tolist()\n",
    "\n",
    "        # Tokenize and embed the topic and tweets\n",
    "        topic_inputs = tokenizer(topic, return_tensors=\"pt\", truncation=True, padding=True)\n",
    "        tweets_inputs = tokenizer(topic_data, padding=True, truncation=True, return_tensors=\"pt\")\n",
    "\n",
    "        with torch.no_grad():\n",
    "            # Generate embeddings for topic and tweets\n",
    "            topic_embedding = model(**topic_inputs).last_hidden_state.mean(dim=1)\n",
    "            tweets_embeddings = model(**tweets_inputs).last_hidden_state.mean(dim=1)\n",
    "\n",
    "            topic_embedding = torch.nn.functional.normalize(topic_embedding, p=2, dim=1)\n",
    "            tweets_embeddings = torch.nn.functional.normalize(tweets_embeddings, p=2, dim=1)\n",
    "\n",
    "        # Calculate cosine similarity between topic and tweets\n",
    "        cosine_sim = torch.nn.functional.cosine_similarity(\n",
    "            tweets_embeddings, topic_embedding.repeat(tweets_embeddings.size(0), 1), dim=1\n",
    "        )\n",
    "        \n",
    "        # Count tweets with similarity above the threshold\n",
    "        relevant_tweets = (cosine_sim > threshold).sum().item()\n",
    "        relevance_scores[topic] = relevant_tweets / 10  # Percentage of relevant tweets\n",
    "\n",
    "    return relevance_scores"
   ],
   "metadata": {
    "collapsed": false,
    "ExecuteTime": {
     "end_time": "2024-11-27T23:40:53.960944Z",
     "start_time": "2024-11-27T23:40:53.954652Z"
    }
   },
   "id": "871f24718ec47fc",
   "execution_count": 293
  },
  {
   "cell_type": "code",
   "outputs": [
    {
     "name": "stdout",
     "output_type": "stream",
     "text": [
      "Processing Model: Gemini\n",
      "Processing topic: Montreal pro-Palestinian strikes\n",
      "Processing topic: Donald Trump 2025 President\n",
      "Processing topic: Black Friday 2024\n",
      "Processing topic: Tax Break Canada\n",
      "Processing topic: Ukraine Russia war\n",
      "Processing topic: NBA Final\n",
      "Processing topic: Taylor Swift 2024 Toronto Tour\n",
      "Processing topic: Mbappe\n",
      "Processing topic: Stephen Curry is GOAT\n",
      "Processing topic: Las Vegas GP\n",
      "Processing topic: Montreal\n",
      "Processing topic: Squid Game 2\n",
      "Processing topic: Halloween Costume\n",
      "Processing topic: Work-Life Balance\n",
      "Processing topic: zero-carbon lifestyle\n",
      "Processing topic: Trump is Hitler\n",
      "Processing topic: ChatGPT controls human\n",
      "Processing topic: LeBron James should retire\n",
      "Processing topic: Tech layoff\n",
      "Processing topic: SpaceX successful launch\n",
      "Processing topic: The Age of AI\n",
      "Processing topic: iPhone 16\n",
      "Processing topic: Apple Intelligence\n",
      "----------\n",
      "Processing Model: Phi-14B\n",
      "Processing topic: Montreal pro-Palestinian strikes\n",
      "Processing topic: Donald Trump 2025 President\n",
      "Processing topic: Black Friday 2024\n",
      "Processing topic: Tax Break Canada\n",
      "Processing topic: Ukraine Russia war\n",
      "Processing topic: NBA Final\n",
      "Processing topic: Taylor Swift 2024 Toronto Tour\n",
      "Processing topic: Mbappe\n",
      "Processing topic: Stephen Curry is GOAT\n",
      "Processing topic: Las Vegas GP\n",
      "Processing topic: Montreal\n",
      "Processing topic: Squid Game 2\n",
      "Processing topic: Halloween Costume\n",
      "Processing topic: Work-Life Balance\n",
      "Processing topic: zero-carbon lifestyle\n",
      "Processing topic: Trudeau National Disgrace\n",
      "Processing topic: Trump is Hitler\n",
      "Processing topic: ChatGPT controls human\n",
      "Processing topic: Joe Biden is dead\n",
      "Processing topic: LeBron James should retire\n",
      "Processing topic: Tech layoff\n",
      "Processing topic: SpaceX successful launch\n",
      "Processing topic: The Age of AI\n",
      "Processing topic: iPhone 16\n",
      "Processing topic: Apple Intelligence\n",
      "----------\n",
      "Processing Model: Phi-Tweet\n",
      "Processing topic: Montreal pro-Palestinian strikes\n",
      "Processing topic: Donald Trump 2025 President\n",
      "Processing topic: Black Friday 2024\n",
      "Processing topic: Tax Break Canada\n",
      "Processing topic: Ukraine Russia war\n",
      "Processing topic: NBA Final\n",
      "Processing topic: Taylor Swift 2024 Toronto Tour\n",
      "Processing topic: Mbappe\n",
      "Processing topic: Stephen Curry is GOAT\n",
      "Processing topic: Las Vegas GP\n",
      "Processing topic: Montreal\n",
      "Processing topic: Squid Game 2\n",
      "Processing topic: Halloween Costume\n",
      "Processing topic: Work-Life Balance\n",
      "Processing topic: zero-carbon lifestyle\n",
      "Processing topic: Trudeau National Disgrace\n",
      "Processing topic: Trump is Hitler\n",
      "Processing topic: ChatGPT controls human\n",
      "Processing topic: Joe Biden is dead\n",
      "Processing topic: LeBron James should retire\n",
      "Processing topic: Tech layoff\n",
      "Processing topic: SpaceX successful launch\n",
      "Processing topic: The Age of AI\n",
      "Processing topic: iPhone 16\n",
      "Processing topic: Apple Intelligence\n",
      "----------\n",
      "Processing Model: Phi-Tweet-RAG\n",
      "Processing topic: Montreal pro-Palestinian strikes\n",
      "Processing topic: Donald Trump 2025 President\n",
      "Processing topic: Black Friday 2024\n",
      "Processing topic: Tax Break Canada\n",
      "Processing topic: Ukraine Russia war\n",
      "Processing topic: NBA Final\n",
      "Processing topic: Taylor Swift 2024 Toronto Tour\n",
      "Processing topic: Mbappe\n",
      "Processing topic: Stephen Curry is GOAT\n",
      "Processing topic: Las Vegas GP\n",
      "Processing topic: Montreal\n",
      "Processing topic: Squid Game 2\n",
      "Processing topic: Halloween Costume\n",
      "Processing topic: Work-Life Balance\n",
      "Processing topic: zero-carbon lifestyle\n",
      "Processing topic: Trudeau National Disgrace\n",
      "Processing topic: Trump is Hitler\n",
      "Processing topic: ChatGPT controls human\n",
      "Processing topic: Joe Biden is dead\n",
      "Processing topic: LeBron James should retire\n",
      "Processing topic: Tech layoff\n",
      "Processing topic: SpaceX successful launch\n",
      "Processing topic: The Age of AI\n",
      "Processing topic: iPhone 16\n",
      "Processing topic: Apple Intelligence\n",
      "----------\n"
     ]
    }
   ],
   "source": [
    "# Process each model's dataset\n",
    "for model_name in models:\n",
    "    print(f\"Processing Model: {model_name['model']}\")\n",
    "    data = align_prompts_to_topics(\n",
    "        csv_file=model_name['file'],\n",
    "        topic_list=real_world_topic,\n",
    "        rows_per_topic=10\n",
    "    )\n",
    "\n",
    "    data = filter_invalid_generations(data, model_name[\"generation_title\"])\n",
    "    \n",
    "    results[model_name[\"model\"]] = calculate_topic_relevance(\n",
    "        data,\n",
    "        model_name[\"generation_title\"],\n",
    "        model,\n",
    "        tokenizer,\n",
    "        threshold\n",
    "    )\n",
    "    print(\"----------\")"
   ],
   "metadata": {
    "collapsed": false,
    "ExecuteTime": {
     "end_time": "2024-11-27T23:41:17.456347Z",
     "start_time": "2024-11-27T23:40:54.252079Z"
    }
   },
   "id": "f3190c02f671122e",
   "execution_count": 294
  },
  {
   "cell_type": "code",
   "outputs": [],
   "source": [
    "def align_model_results(results, topics, default_score=0):\n",
    "    for model, scores in results.items():\n",
    "        # Identify missing topics\n",
    "        missing_topics = [topic for topic in topics if topic not in scores]\n",
    "\n",
    "        # Add missing topics with the default score\n",
    "        for topic in missing_topics:\n",
    "            scores[topic] = default_score\n",
    "\n",
    "    return results\n",
    "\n",
    "aligned_results = align_model_results(results, real_world_topic, default_score=0)"
   ],
   "metadata": {
    "collapsed": false,
    "ExecuteTime": {
     "end_time": "2024-11-27T23:41:17.460707Z",
     "start_time": "2024-11-27T23:41:17.457905Z"
    }
   },
   "id": "4823bf36bdb71b48",
   "execution_count": 295
  },
  {
   "cell_type": "code",
   "outputs": [],
   "source": [
    "# Aggregate Results\n",
    "aggregate_results = {\n",
    "    model: {\n",
    "        \"mean_relevance\": np.mean(list(scores.values())),\n",
    "        \"std_relevance\": np.std(list(scores.values()))\n",
    "    }\n",
    "    for model, scores in results.items()\n",
    "}"
   ],
   "metadata": {
    "collapsed": false,
    "ExecuteTime": {
     "end_time": "2024-11-27T23:41:17.464695Z",
     "start_time": "2024-11-27T23:41:17.462001Z"
    }
   },
   "id": "6cedf67237f413ae",
   "execution_count": 296
  },
  {
   "cell_type": "code",
   "outputs": [
    {
     "name": "stdout",
     "output_type": "stream",
     "text": [
      "               mean_relevance  std_relevance\n",
      "Gemini                  0.880       0.295296\n",
      "Phi-14B                 0.820       0.268328\n",
      "Phi-Tweet               0.864       0.152000\n",
      "Phi-Tweet-RAG           0.904       0.095833\n"
     ]
    },
    {
     "data": {
      "text/plain": "<Figure size 1000x600 with 1 Axes>",
      "image/png": "[encoded data removed]"
     },
     "metadata": {},
     "output_type": "display_data"
    }
   ],
   "source": [
    "# Display Aggregate Results\n",
    "print(pd.DataFrame(aggregate_results).T)\n",
    "\n",
    "# Visualization: Bar Chart\n",
    "plt.figure(figsize=(10, 6))\n",
    "means = [aggregate_results[model]['mean_relevance'] for model in results.keys()]\n",
    "stds = [aggregate_results[model]['std_relevance'] for model in results.keys()]\n",
    "plt.bar(results.keys(), means, yerr=stds, capsize=5, color='orange', edgecolor='black')\n",
    "plt.ylim(0.5, 1)  # Adjust based on your data range\n",
    "plt.title(\"Topic Relevance Across Models\")\n",
    "plt.ylabel(\"Mean Relevance Score\")\n",
    "plt.xlabel(\"Model\")\n",
    "plt.xticks(rotation=15)\n",
    "plt.show()"
   ],
   "metadata": {
    "collapsed": false,
    "ExecuteTime": {
     "end_time": "2024-11-28T01:49:17.314243Z",
     "start_time": "2024-11-28T01:49:17.233862Z"
    }
   },
   "id": "a8f58349b251d52f",
   "execution_count": 303
  },
  {
   "cell_type": "code",
   "outputs": [],
   "source": [],
   "metadata": {
    "collapsed": false,
    "ExecuteTime": {
     "end_time": "2024-11-27T23:40:41.303056Z",
     "start_time": "2024-11-27T23:40:41.301328Z"
    }
   },
   "id": "62600a79e9a67c59",
   "execution_count": 291
  },
  {
   "cell_type": "code",
   "outputs": [],
   "source": [],
   "metadata": {
    "collapsed": false,
    "ExecuteTime": {
     "end_time": "2024-11-27T23:04:15.366772Z",
     "start_time": "2024-11-27T23:04:15.364948Z"
    }
   },
   "id": "b5cfd641538ce46",
   "execution_count": 145
  }
 ],
 "metadata": {
  "kernelspec": {
   "display_name": "Python 3",
   "language": "python",
   "name": "python3"
  },
  "language_info": {
   "codemirror_mode": {
    "name": "ipython",
    "version": 2
   },
   "file_extension": ".py",
   "mimetype": "text/x-python",
   "name": "python",
   "nbconvert_exporter": "python",
   "pygments_lexer": "ipython2",
   "version": "2.7.6"
  }
 },
 "nbformat": 4,
 "nbformat_minor": 5
}
