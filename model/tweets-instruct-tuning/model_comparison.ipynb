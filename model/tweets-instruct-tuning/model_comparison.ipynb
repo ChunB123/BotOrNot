{
  "cells": [
    {
      "cell_type": "markdown",
      "source": [
        "# Model Comparison Playground"
      ],
      "metadata": {
        "collapsed": false,
        "id": "bbee1d80987eecfd"
      },
      "id": "bbee1d80987eecfd"
    },
    {
      "cell_type": "code",
      "outputs": [
        {
          "name": "stdout",
          "output_type": "stream",
          "text": [
            "Thu Nov  7 01:57:27 2024       \r\n",
            "+-----------------------------------------------------------------------------------------+\r\n",
            "| NVIDIA-SMI 550.54.15              Driver Version: 550.54.15      CUDA Version: 12.4     |\r\n",
            "|-----------------------------------------+------------------------+----------------------+\r\n",
            "| GPU  Name                 Persistence-M | Bus-Id          Disp.A | Volatile Uncorr. ECC |\r\n",
            "| Fan  Temp   Perf          Pwr:Usage/Cap |           Memory-Usage | GPU-Util  Compute M. |\r\n",
            "|                                         |                        |               MIG M. |\r\n",
            "|=========================================+========================+======================|\r\n",
            "|   0  NVIDIA GeForce RTX 4090        On  |   00000000:21:00.0 Off |                  Off |\r\n",
            "| 30%   39C    P8             18W /  450W |       1MiB /  24564MiB |      0%      Default |\r\n",
            "|                                         |                        |                  N/A |\r\n",
            "+-----------------------------------------+------------------------+----------------------+\r\n",
            "                                                                                         \r\n",
            "+-----------------------------------------------------------------------------------------+\r\n",
            "| Processes:                                                                              |\r\n",
            "|  GPU   GI   CI        PID   Type   Process name                              GPU Memory |\r\n",
            "|        ID   ID                                                               Usage      |\r\n",
            "|=========================================================================================|\r\n",
            "|  No running processes found                                                             |\r\n",
            "+-----------------------------------------------------------------------------------------+\r\n"
          ]
        }
      ],
      "source": [
        "!nvidia-smi"
      ],
      "metadata": {
        "collapsed": true,
        "ExecuteTime": {
          "end_time": "2024-11-07T01:57:27.976297Z",
          "start_time": "2024-11-07T01:57:27.374522Z"
        },
        "id": "initial_id",
        "outputId": "9b7c297a-2455-4ee6-d6ee-0cd02ed9983b"
      },
      "id": "initial_id",
      "execution_count": null
    },
    {
      "cell_type": "code",
      "outputs": [],
      "source": [
        "base_model_id = \"microsoft/Phi-3.5-mini-instruct\"\n",
        "tuned_model_id = \"AlanYky/phi-3.5_tweets_instruct\"\n",
        "tuned_2_model_id = \"AlanYky/phi-3.5_tweets_instruct_topic\"\n",
        "tuned_50k_model_id = \"AlanYky/phi-3.5_tweets_instruct_50k\""
      ],
      "metadata": {
        "ExecuteTime": {
          "end_time": "2024-11-07T01:57:28.861335Z",
          "start_time": "2024-11-07T01:57:28.858390Z"
        },
        "id": "f98df3ff03137040"
      },
      "id": "f98df3ff03137040",
      "execution_count": null
    },
    {
      "cell_type": "code",
      "outputs": [],
      "source": [
        "import torch\n",
        "from transformers import AutoModelForCausalLM, AutoTokenizer, pipeline, BitsAndBytesConfig"
      ],
      "metadata": {
        "ExecuteTime": {
          "end_time": "2024-11-07T01:57:33.931602Z",
          "start_time": "2024-11-07T01:57:30.109627Z"
        },
        "id": "3c5a9490d127393d"
      },
      "id": "3c5a9490d127393d",
      "execution_count": null
    },
    {
      "cell_type": "code",
      "outputs": [
        {
          "data": {
            "text/plain": "Loading checkpoint shards:   0%|          | 0/2 [00:00<?, ?it/s]",
            "application/vnd.jupyter.widget-view+json": {
              "version_major": 2,
              "version_minor": 0,
              "model_id": "9aa673b4e2e74813bdbf17a0a0aba5d7"
            }
          },
          "metadata": {},
          "output_type": "display_data"
        },
        {
          "data": {
            "text/plain": "generation_config.json:   0%|          | 0.00/195 [00:00<?, ?B/s]",
            "application/vnd.jupyter.widget-view+json": {
              "version_major": 2,
              "version_minor": 0,
              "model_id": "9915a76e854c49078aba9b5b396c31cd"
            }
          },
          "metadata": {},
          "output_type": "display_data"
        },
        {
          "data": {
            "text/plain": "config.json:   0%|          | 0.00/3.53k [00:00<?, ?B/s]",
            "application/vnd.jupyter.widget-view+json": {
              "version_major": 2,
              "version_minor": 0,
              "model_id": "0c610cbcad2b454e9ed4fe7240d9178a"
            }
          },
          "metadata": {},
          "output_type": "display_data"
        },
        {
          "data": {
            "text/plain": "model.safetensors.index.json:   0%|          | 0.00/16.3k [00:00<?, ?B/s]",
            "application/vnd.jupyter.widget-view+json": {
              "version_major": 2,
              "version_minor": 0,
              "model_id": "6a1091c8015749d590678c3205190f3e"
            }
          },
          "metadata": {},
          "output_type": "display_data"
        },
        {
          "data": {
            "text/plain": "Downloading shards:   0%|          | 0/2 [00:00<?, ?it/s]",
            "application/vnd.jupyter.widget-view+json": {
              "version_major": 2,
              "version_minor": 0,
              "model_id": "4a6eaecec7ad4393addb31ff8eb2a687"
            }
          },
          "metadata": {},
          "output_type": "display_data"
        },
        {
          "data": {
            "text/plain": "model-00001-of-00002.safetensors:   0%|          | 0.00/4.97G [00:00<?, ?B/s]",
            "application/vnd.jupyter.widget-view+json": {
              "version_major": 2,
              "version_minor": 0,
              "model_id": "2abdc850ce39493aa7974021b1f3d895"
            }
          },
          "metadata": {},
          "output_type": "display_data"
        },
        {
          "data": {
            "text/plain": "model-00002-of-00002.safetensors:   0%|          | 0.00/2.67G [00:00<?, ?B/s]",
            "application/vnd.jupyter.widget-view+json": {
              "version_major": 2,
              "version_minor": 0,
              "model_id": "dcc10babe6da4af7a380b7b0310525d0"
            }
          },
          "metadata": {},
          "output_type": "display_data"
        },
        {
          "data": {
            "text/plain": "Loading checkpoint shards:   0%|          | 0/2 [00:00<?, ?it/s]",
            "application/vnd.jupyter.widget-view+json": {
              "version_major": 2,
              "version_minor": 0,
              "model_id": "9d30bd23fb3a4c07b055a40c56c53e6f"
            }
          },
          "metadata": {},
          "output_type": "display_data"
        },
        {
          "data": {
            "text/plain": "generation_config.json:   0%|          | 0.00/172 [00:00<?, ?B/s]",
            "application/vnd.jupyter.widget-view+json": {
              "version_major": 2,
              "version_minor": 0,
              "model_id": "a4a26968f5c3439b92d3883af62a4632"
            }
          },
          "metadata": {},
          "output_type": "display_data"
        },
        {
          "data": {
            "text/plain": "config.json:   0%|          | 0.00/3.53k [00:00<?, ?B/s]",
            "application/vnd.jupyter.widget-view+json": {
              "version_major": 2,
              "version_minor": 0,
              "model_id": "aeebcebeb92c40d2ba66498aec342b49"
            }
          },
          "metadata": {},
          "output_type": "display_data"
        },
        {
          "data": {
            "text/plain": "model.safetensors.index.json:   0%|          | 0.00/16.3k [00:00<?, ?B/s]",
            "application/vnd.jupyter.widget-view+json": {
              "version_major": 2,
              "version_minor": 0,
              "model_id": "2f088774229f4727b16d0e64a0ba809e"
            }
          },
          "metadata": {},
          "output_type": "display_data"
        },
        {
          "data": {
            "text/plain": "Downloading shards:   0%|          | 0/2 [00:00<?, ?it/s]",
            "application/vnd.jupyter.widget-view+json": {
              "version_major": 2,
              "version_minor": 0,
              "model_id": "b2113ddcc83f40af8bf9f8165c0cdd56"
            }
          },
          "metadata": {},
          "output_type": "display_data"
        },
        {
          "data": {
            "text/plain": "model-00001-of-00002.safetensors:   0%|          | 0.00/4.97G [00:00<?, ?B/s]",
            "application/vnd.jupyter.widget-view+json": {
              "version_major": 2,
              "version_minor": 0,
              "model_id": "6312088cfb2b49369d8a449bd33a31bf"
            }
          },
          "metadata": {},
          "output_type": "display_data"
        },
        {
          "data": {
            "text/plain": "model-00002-of-00002.safetensors:   0%|          | 0.00/2.67G [00:00<?, ?B/s]",
            "application/vnd.jupyter.widget-view+json": {
              "version_major": 2,
              "version_minor": 0,
              "model_id": "a4dbed176ad9486199cee3ebe0a8674e"
            }
          },
          "metadata": {},
          "output_type": "display_data"
        },
        {
          "data": {
            "text/plain": "Loading checkpoint shards:   0%|          | 0/2 [00:00<?, ?it/s]",
            "application/vnd.jupyter.widget-view+json": {
              "version_major": 2,
              "version_minor": 0,
              "model_id": "3dea146219d2449d82a2fabd2fb31d68"
            }
          },
          "metadata": {},
          "output_type": "display_data"
        },
        {
          "data": {
            "text/plain": "generation_config.json:   0%|          | 0.00/172 [00:00<?, ?B/s]",
            "application/vnd.jupyter.widget-view+json": {
              "version_major": 2,
              "version_minor": 0,
              "model_id": "4071b15887e64bd6a46bd461ac840cfc"
            }
          },
          "metadata": {},
          "output_type": "display_data"
        },
        {
          "data": {
            "text/plain": "tokenizer_config.json:   0%|          | 0.00/3.98k [00:00<?, ?B/s]",
            "application/vnd.jupyter.widget-view+json": {
              "version_major": 2,
              "version_minor": 0,
              "model_id": "499cf6e4ef8041fb828a7df3d1766b06"
            }
          },
          "metadata": {},
          "output_type": "display_data"
        },
        {
          "data": {
            "text/plain": "tokenizer.model:   0%|          | 0.00/500k [00:00<?, ?B/s]",
            "application/vnd.jupyter.widget-view+json": {
              "version_major": 2,
              "version_minor": 0,
              "model_id": "787ac7e8ce5040cf9e953010f746cd6a"
            }
          },
          "metadata": {},
          "output_type": "display_data"
        },
        {
          "data": {
            "text/plain": "tokenizer.json:   0%|          | 0.00/1.84M [00:00<?, ?B/s]",
            "application/vnd.jupyter.widget-view+json": {
              "version_major": 2,
              "version_minor": 0,
              "model_id": "94c07b21bf804bb6b49ef6ca29bb260e"
            }
          },
          "metadata": {},
          "output_type": "display_data"
        },
        {
          "data": {
            "text/plain": "added_tokens.json:   0%|          | 0.00/306 [00:00<?, ?B/s]",
            "application/vnd.jupyter.widget-view+json": {
              "version_major": 2,
              "version_minor": 0,
              "model_id": "aa723472c2064e888142b21e46866c40"
            }
          },
          "metadata": {},
          "output_type": "display_data"
        },
        {
          "data": {
            "text/plain": "special_tokens_map.json:   0%|          | 0.00/665 [00:00<?, ?B/s]",
            "application/vnd.jupyter.widget-view+json": {
              "version_major": 2,
              "version_minor": 0,
              "model_id": "9b771fcce0b040269f80d3eeb3c26581"
            }
          },
          "metadata": {},
          "output_type": "display_data"
        }
      ],
      "source": [
        "torch.random.manual_seed(0)\n",
        "\n",
        "base_model = AutoModelForCausalLM.from_pretrained(\n",
        "    base_model_id,\n",
        "    device_map=\"cuda\",\n",
        "    torch_dtype=\"auto\",\n",
        "    trust_remote_code=True,\n",
        "    # attn_implementation=\"flash_attention_2\",\n",
        ")\n",
        "base_model.to(\"cuda\")\n",
        "\n",
        "tuned_model = AutoModelForCausalLM.from_pretrained(\n",
        "    tuned_model_id,\n",
        "    device_map=\"cuda\",\n",
        "    torch_dtype=\"auto\",\n",
        "    trust_remote_code=True,\n",
        "    # attn_implementation=\"flash_attention_2\",\n",
        ")\n",
        "tuned_model.to(\"cuda\")\n",
        "\n",
        "tuned_2_model = AutoModelForCausalLM.from_pretrained(\n",
        "    tuned_2_model_id,\n",
        "    device_map=\"cuda\",\n",
        "    torch_dtype=\"auto\",\n",
        "    trust_remote_code=True,\n",
        "    # attn_implementation=\"flash_attention_2\",\n",
        ")\n",
        "tuned_2_model.to(\"cuda\")\n",
        "\n",
        "tokenizer = AutoTokenizer.from_pretrained(base_model_id)"
      ],
      "metadata": {
        "ExecuteTime": {
          "end_time": "2024-10-30T01:20:15.882636Z",
          "start_time": "2024-10-30T01:12:29.522302Z"
        },
        "id": "84aefca998e56f93",
        "outputId": "31ecb497-1aec-4941-c59b-f049a116f7e0",
        "colab": {
          "referenced_widgets": [
            "9aa673b4e2e74813bdbf17a0a0aba5d7",
            "9915a76e854c49078aba9b5b396c31cd",
            "0c610cbcad2b454e9ed4fe7240d9178a",
            "6a1091c8015749d590678c3205190f3e",
            "4a6eaecec7ad4393addb31ff8eb2a687",
            "2abdc850ce39493aa7974021b1f3d895",
            "dcc10babe6da4af7a380b7b0310525d0",
            "9d30bd23fb3a4c07b055a40c56c53e6f",
            "a4a26968f5c3439b92d3883af62a4632",
            "aeebcebeb92c40d2ba66498aec342b49",
            "2f088774229f4727b16d0e64a0ba809e",
            "b2113ddcc83f40af8bf9f8165c0cdd56",
            "6312088cfb2b49369d8a449bd33a31bf",
            "a4dbed176ad9486199cee3ebe0a8674e",
            "3dea146219d2449d82a2fabd2fb31d68",
            "4071b15887e64bd6a46bd461ac840cfc",
            "499cf6e4ef8041fb828a7df3d1766b06",
            "787ac7e8ce5040cf9e953010f746cd6a",
            "94c07b21bf804bb6b49ef6ca29bb260e",
            "aa723472c2064e888142b21e46866c40",
            "9b771fcce0b040269f80d3eeb3c26581"
          ]
        }
      },
      "id": "84aefca998e56f93",
      "execution_count": null
    },
    {
      "cell_type": "code",
      "outputs": [
        {
          "data": {
            "text/plain": "config.json:   0%|          | 0.00/3.53k [00:00<?, ?B/s]",
            "application/vnd.jupyter.widget-view+json": {
              "version_major": 2,
              "version_minor": 0,
              "model_id": "a13b79325d7442ce9c96c9627c990a83"
            }
          },
          "metadata": {},
          "output_type": "display_data"
        },
        {
          "data": {
            "text/plain": "configuration_phi3.py:   0%|          | 0.00/11.2k [00:00<?, ?B/s]",
            "application/vnd.jupyter.widget-view+json": {
              "version_major": 2,
              "version_minor": 0,
              "model_id": "e5989321b4574de385d99f36ce23822b"
            }
          },
          "metadata": {},
          "output_type": "display_data"
        },
        {
          "name": "stderr",
          "output_type": "stream",
          "text": [
            "A new version of the following files was downloaded from https://huggingface.co/microsoft/Phi-3.5-mini-instruct:\n",
            "- configuration_phi3.py\n",
            ". Make sure to double-check they do not contain any added malicious code. To avoid downloading new versions of the code file, you can pin a revision.\n"
          ]
        },
        {
          "data": {
            "text/plain": "modeling_phi3.py:   0%|          | 0.00/73.8k [00:00<?, ?B/s]",
            "application/vnd.jupyter.widget-view+json": {
              "version_major": 2,
              "version_minor": 0,
              "model_id": "5e6a25c41c6247df907bf35ca569bfb4"
            }
          },
          "metadata": {},
          "output_type": "display_data"
        },
        {
          "name": "stderr",
          "output_type": "stream",
          "text": [
            "A new version of the following files was downloaded from https://huggingface.co/microsoft/Phi-3.5-mini-instruct:\n",
            "- modeling_phi3.py\n",
            ". Make sure to double-check they do not contain any added malicious code. To avoid downloading new versions of the code file, you can pin a revision.\n"
          ]
        },
        {
          "data": {
            "text/plain": "model.safetensors.index.json:   0%|          | 0.00/16.3k [00:00<?, ?B/s]",
            "application/vnd.jupyter.widget-view+json": {
              "version_major": 2,
              "version_minor": 0,
              "model_id": "6ae3e1f49c8c4c24910b8a0b5eea4003"
            }
          },
          "metadata": {},
          "output_type": "display_data"
        },
        {
          "data": {
            "text/plain": "Downloading shards:   0%|          | 0/2 [00:00<?, ?it/s]",
            "application/vnd.jupyter.widget-view+json": {
              "version_major": 2,
              "version_minor": 0,
              "model_id": "0f9112801ebc4e8586bb2db3c8f120a7"
            }
          },
          "metadata": {},
          "output_type": "display_data"
        },
        {
          "data": {
            "text/plain": "model-00001-of-00002.safetensors:   0%|          | 0.00/4.97G [00:00<?, ?B/s]",
            "application/vnd.jupyter.widget-view+json": {
              "version_major": 2,
              "version_minor": 0,
              "model_id": "4aefc0eeb494449bb13ad6ada235ffae"
            }
          },
          "metadata": {},
          "output_type": "display_data"
        },
        {
          "data": {
            "text/plain": "model-00002-of-00002.safetensors:   0%|          | 0.00/2.67G [00:00<?, ?B/s]",
            "application/vnd.jupyter.widget-view+json": {
              "version_major": 2,
              "version_minor": 0,
              "model_id": "9232d12a9ca248728cf6fc8c99673224"
            }
          },
          "metadata": {},
          "output_type": "display_data"
        },
        {
          "data": {
            "text/plain": "Loading checkpoint shards:   0%|          | 0/2 [00:00<?, ?it/s]",
            "application/vnd.jupyter.widget-view+json": {
              "version_major": 2,
              "version_minor": 0,
              "model_id": "bbd53ee3655a423eb6e23d5e7906a223"
            }
          },
          "metadata": {},
          "output_type": "display_data"
        },
        {
          "data": {
            "text/plain": "generation_config.json:   0%|          | 0.00/172 [00:00<?, ?B/s]",
            "application/vnd.jupyter.widget-view+json": {
              "version_major": 2,
              "version_minor": 0,
              "model_id": "877bc730ceca43319077cbc545323d9b"
            }
          },
          "metadata": {},
          "output_type": "display_data"
        },
        {
          "data": {
            "text/plain": "Phi3ForCausalLM(\n  (model): Phi3Model(\n    (embed_tokens): Embedding(32064, 3072, padding_idx=32000)\n    (embed_dropout): Dropout(p=0.0, inplace=False)\n    (layers): ModuleList(\n      (0-31): 32 x Phi3DecoderLayer(\n        (self_attn): Phi3Attention(\n          (o_proj): Linear(in_features=3072, out_features=3072, bias=False)\n          (qkv_proj): Linear(in_features=3072, out_features=9216, bias=False)\n          (rotary_emb): Phi3LongRoPEScaledRotaryEmbedding()\n        )\n        (mlp): Phi3MLP(\n          (gate_up_proj): Linear(in_features=3072, out_features=16384, bias=False)\n          (down_proj): Linear(in_features=8192, out_features=3072, bias=False)\n          (activation_fn): SiLU()\n        )\n        (input_layernorm): Phi3RMSNorm()\n        (resid_attn_dropout): Dropout(p=0.0, inplace=False)\n        (resid_mlp_dropout): Dropout(p=0.0, inplace=False)\n        (post_attention_layernorm): Phi3RMSNorm()\n      )\n    )\n    (norm): Phi3RMSNorm()\n  )\n  (lm_head): Linear(in_features=3072, out_features=32064, bias=False)\n)"
          },
          "execution_count": 4,
          "metadata": {},
          "output_type": "execute_result"
        }
      ],
      "source": [
        "tuned_50k_model = AutoModelForCausalLM.from_pretrained(\n",
        "    tuned_50k_model_id,\n",
        "    device_map=\"cuda\",\n",
        "    torch_dtype=\"auto\",\n",
        "    trust_remote_code=True,\n",
        "    # attn_implementation=\"flash_attention_2\",\n",
        ")\n",
        "tuned_50k_model.to(\"cuda\")"
      ],
      "metadata": {
        "ExecuteTime": {
          "end_time": "2024-11-07T02:03:05.985266Z",
          "start_time": "2024-11-07T01:57:37.529369Z"
        },
        "id": "add2e388b19c8746",
        "outputId": "966e29c8-e298-4b20-dd74-7a075808e52a",
        "colab": {
          "referenced_widgets": [
            "a13b79325d7442ce9c96c9627c990a83",
            "e5989321b4574de385d99f36ce23822b",
            "5e6a25c41c6247df907bf35ca569bfb4",
            "6ae3e1f49c8c4c24910b8a0b5eea4003",
            "0f9112801ebc4e8586bb2db3c8f120a7",
            "4aefc0eeb494449bb13ad6ada235ffae",
            "9232d12a9ca248728cf6fc8c99673224",
            "bbd53ee3655a423eb6e23d5e7906a223",
            "877bc730ceca43319077cbc545323d9b"
          ]
        }
      },
      "id": "add2e388b19c8746",
      "execution_count": null
    },
    {
      "cell_type": "code",
      "outputs": [
        {
          "data": {
            "text/plain": "tokenizer_config.json:   0%|          | 0.00/3.98k [00:00<?, ?B/s]",
            "application/vnd.jupyter.widget-view+json": {
              "version_major": 2,
              "version_minor": 0,
              "model_id": "dc98a9d56b734585a7e83b5b24a7a0d6"
            }
          },
          "metadata": {},
          "output_type": "display_data"
        },
        {
          "data": {
            "text/plain": "tokenizer.model:   0%|          | 0.00/500k [00:00<?, ?B/s]",
            "application/vnd.jupyter.widget-view+json": {
              "version_major": 2,
              "version_minor": 0,
              "model_id": "22b4507c8bf44e699b44fb2f6f38e34b"
            }
          },
          "metadata": {},
          "output_type": "display_data"
        },
        {
          "data": {
            "text/plain": "tokenizer.json:   0%|          | 0.00/1.84M [00:00<?, ?B/s]",
            "application/vnd.jupyter.widget-view+json": {
              "version_major": 2,
              "version_minor": 0,
              "model_id": "61e0ddab19144345b20ba924a628b25f"
            }
          },
          "metadata": {},
          "output_type": "display_data"
        },
        {
          "data": {
            "text/plain": "added_tokens.json:   0%|          | 0.00/306 [00:00<?, ?B/s]",
            "application/vnd.jupyter.widget-view+json": {
              "version_major": 2,
              "version_minor": 0,
              "model_id": "4ef13b3944564d21880d73201b48eb32"
            }
          },
          "metadata": {},
          "output_type": "display_data"
        },
        {
          "data": {
            "text/plain": "special_tokens_map.json:   0%|          | 0.00/665 [00:00<?, ?B/s]",
            "application/vnd.jupyter.widget-view+json": {
              "version_major": 2,
              "version_minor": 0,
              "model_id": "6b79a88d2d5a4656ba7ba1345d568ea2"
            }
          },
          "metadata": {},
          "output_type": "display_data"
        }
      ],
      "source": [
        "tokenizer = AutoTokenizer.from_pretrained(base_model_id)"
      ],
      "metadata": {
        "ExecuteTime": {
          "end_time": "2024-11-07T02:04:07.491686Z",
          "start_time": "2024-11-07T02:04:04.799889Z"
        },
        "id": "f701b8a4043f8915",
        "outputId": "a510eb9e-9960-45cf-c557-1352df8196b1",
        "colab": {
          "referenced_widgets": [
            "dc98a9d56b734585a7e83b5b24a7a0d6",
            "22b4507c8bf44e699b44fb2f6f38e34b",
            "61e0ddab19144345b20ba924a628b25f",
            "4ef13b3944564d21880d73201b48eb32",
            "6b79a88d2d5a4656ba7ba1345d568ea2"
          ]
        }
      },
      "id": "f701b8a4043f8915",
      "execution_count": null
    },
    {
      "cell_type": "code",
      "outputs": [],
      "source": [
        "def generate_tweet(instruction, pipe, generation_args):\n",
        "    # Prepare the messages structure\n",
        "    messages = [\n",
        "        # {\n",
        "        #     \"role\": \"system\",\n",
        "        #     \"content\": \"You are a creative assistant skilled at writing human-like tweets. Respond only with the tweet text.\"\n",
        "        # },\n",
        "        {\n",
        "            \"role\": \"user\",\n",
        "            \"content\": instruction\n",
        "        }\n",
        "    ]\n",
        "\n",
        "    # Generate the tweet response\n",
        "    output = pipe(messages, **generation_args)\n",
        "\n",
        "    # Extract and return the generated tweet text\n",
        "    return output[0]['generated_text']"
      ],
      "metadata": {
        "ExecuteTime": {
          "end_time": "2024-11-07T02:04:14.686353Z",
          "start_time": "2024-11-07T02:04:14.680248Z"
        },
        "id": "9e7e754f2d3ad286"
      },
      "id": "9e7e754f2d3ad286",
      "execution_count": null
    },
    {
      "cell_type": "code",
      "outputs": [],
      "source": [
        "# based_model\n",
        "based_pipe = pipeline(\n",
        "    \"text-generation\",\n",
        "    model=base_model,\n",
        "    tokenizer=tokenizer,\n",
        ")\n",
        "\n",
        "# tuned_model\n",
        "tuned_pipe = pipeline(\n",
        "    \"text-generation\",\n",
        "    model=tuned_model,\n",
        "    tokenizer=tokenizer,\n",
        ")\n",
        "\n",
        "tuned_2_pipe = pipeline(\n",
        "    \"text-generation\",\n",
        "    model=tuned_2_model,\n",
        "    tokenizer=tokenizer,\n",
        ")"
      ],
      "metadata": {
        "ExecuteTime": {
          "end_time": "2024-10-30T01:21:52.997085Z",
          "start_time": "2024-10-30T01:21:52.991574Z"
        },
        "id": "bb9b59ad8f1d6c80"
      },
      "id": "bb9b59ad8f1d6c80",
      "execution_count": null
    },
    {
      "cell_type": "code",
      "outputs": [],
      "source": [
        "tuned_50k_pipe = pipeline(\n",
        "    \"text-generation\",\n",
        "    model=tuned_50k_model,\n",
        "    tokenizer=tokenizer,\n",
        ")"
      ],
      "metadata": {
        "ExecuteTime": {
          "end_time": "2024-11-07T02:04:17.859744Z",
          "start_time": "2024-11-07T02:04:17.853932Z"
        },
        "id": "e80bcc79a6c288e6"
      },
      "id": "e80bcc79a6c288e6",
      "execution_count": null
    },
    {
      "cell_type": "code",
      "outputs": [],
      "source": [
        "topics = [\n",
        "    \"NBA final\",\n",
        "    \"SpaceX successful launch\",\n",
        "    \"Taylor Swift's world tour\",\n",
        "    \"LeBron James is retired\",\n",
        "    \"ChatGPT is controlling us\",\n",
        "    \"I support Donald Trump\",\n",
        "    \"Marvel is better than DC\",\n",
        "    \"Elon Mask is dead\",\n",
        "    \"I want to fuck you\",\n",
        "    \"Halloween costumes\",\n",
        "    \"USA is stronger than China\"\n",
        "]"
      ],
      "metadata": {
        "ExecuteTime": {
          "end_time": "2024-11-07T02:05:04.749958Z",
          "start_time": "2024-11-07T02:05:04.744804Z"
        },
        "id": "9d25230ab6afcfbf"
      },
      "id": "9d25230ab6afcfbf",
      "execution_count": null
    },
    {
      "cell_type": "code",
      "outputs": [],
      "source": [
        "generation_args = {\n",
        "    \"max_new_tokens\": 70,\n",
        "    \"return_full_text\": False,\n",
        "    \"temperature\": 0.4,\n",
        "    \"top_k\": 50,\n",
        "    \"top_p\": 0.9,\n",
        "    \"repetition_penalty\": 1.2,\n",
        "    \"do_sample\": True,\n",
        "}"
      ],
      "metadata": {
        "ExecuteTime": {
          "end_time": "2024-11-07T02:05:06.388551Z",
          "start_time": "2024-11-07T02:05:06.384361Z"
        },
        "id": "3ef7e2d208c45dee"
      },
      "id": "3ef7e2d208c45dee",
      "execution_count": null
    },
    {
      "cell_type": "code",
      "outputs": [],
      "source": [
        "import time\n",
        "import pandas as pd\n",
        "\n",
        "def get_tweet_generation_report(generation_args, topics):\n",
        "    # Initialize an empty list to store data for the DataFrame\n",
        "    data = []\n",
        "\n",
        "    # Define model pipes and names for easy looping\n",
        "    models = [\n",
        "        # (\"Base Model\", based_pipe),\n",
        "        # (\"Tuned 100k Model\", tuned_pipe),\n",
        "        # (\"Tuned 13k Model\", tuned_2_pipe),\n",
        "        (\"Tuned 50k Model\", tuned_50k_pipe),\n",
        "    ]\n",
        "\n",
        "    # Loop through each topic and model to generate tweets\n",
        "    for topic in topics:\n",
        "        tweet_generation_prompt = f\"Generate a tweet about {topic}\"\n",
        "\n",
        "        for model_name, model_pipe in models:\n",
        "            start_time = time.time()  # Start the timer\n",
        "\n",
        "            # Generate three tweets for the given topic and model\n",
        "            tweets = [generate_tweet(\n",
        "                instruction=tweet_generation_prompt,\n",
        "                pipe=model_pipe,\n",
        "                generation_args=generation_args\n",
        "            ) for _ in range(3)]\n",
        "\n",
        "            end_time = time.time()  # End the timer\n",
        "            generation_time = end_time - start_time\n",
        "\n",
        "            # Print the model name, topic, and time taken\n",
        "            print(f\"{model_name} ------\")\n",
        "            print(f\"Topic: {topic}\")\n",
        "            print(f\"Time taken: {generation_time:.2f} seconds\")\n",
        "            print(\"\\n\".join(tweets))\n",
        "            print(\"\\n\")\n",
        "\n",
        "            # Append each tweet result to the data list\n",
        "            for tweet in tweets:\n",
        "                data.append({\n",
        "                    \"Topic\": topic,\n",
        "                    \"Model\": model_name,\n",
        "                    \"Tweet\": tweet,\n",
        "                    \"Generation Time (s)\": generation_time / 3  # Average time per tweet\n",
        "                })\n",
        "\n",
        "    # Create a DataFrame from the collected data\n",
        "    tweet_df = pd.DataFrame(data)\n",
        "    return tweet_df\n"
      ],
      "metadata": {
        "ExecuteTime": {
          "end_time": "2024-11-07T02:06:03.988012Z",
          "start_time": "2024-11-07T02:06:03.978481Z"
        },
        "id": "3173f73496bf7fca"
      },
      "id": "3173f73496bf7fca",
      "execution_count": null
    },
    {
      "cell_type": "code",
      "outputs": [
        {
          "name": "stdout",
          "output_type": "stream",
          "text": [
            "Tuned 50k Model ------\n",
            "Topic: NBA final\n",
            "Time taken: 7.57 seconds\n",
            " I’m just hoping that the Lakers win this series. The Clippers are so good but they have been playing their best game of the season in Game 7 and it was close enough for me to think we might be able to beat them if there were no injuries or bad luck, which is why i hope Kuzma gets\n",
            " The 76ers are the best team in their division. They should be playing for an NBAs championship, not just trying to win it all at home! #NBAfinals2021#nba_franchise_of_theyear\n",
            " I can’t believe the Clippers are going to lose in 7th game of this series. This is so unfair! #NBAfinals2021 #Clippers vs Heat Final Game Day Preview: The Miami Heat have won two straight games and now they need just one more win for their first\n",
            "\n",
            "Tuned 50k Model ------\n",
            "Topic: SpaceX successful launch\n",
            "Time taken: 7.63 seconds\n",
            " I’m still in shock that the Falcon 9 rocket from today's Starlink satellite deployment was able to land on an ocean platform. This is truly amazing! #SpaceX #Starlink🚀✨#FalconRocketLanding\n",
            " Just watched the first ever live stream of Falcon 9 rocket taking off from Cape Canaveral. The whole thing was just incredible! #SpaceX #successfullaunch��������������������������������\n",
            " I’m so excited to see the Falcon Heavy rocket from Elon Musk take off tomorrow. This is going to be epic! #SpaceX #rocketscience ������������������������������\n"
          ]
        },
        {
          "name": "stderr",
          "output_type": "stream",
          "text": [
            "You seem to be using the pipelines sequentially on GPU. In order to maximize efficiency please use a dataset\n"
          ]
        },
        {
          "name": "stdout",
          "output_type": "stream",
          "text": [
            "Tuned 50k Model ------\n",
            "Topic: Taylor Swift's world tour\n",
            "Time taken: 7.95 seconds\n",
            " I just saw the first episode of #TaylorSwiftWorldTour and it was so good. The show is amazing! 😍❤️#TheLoveIsHereForYou @ MetLife Stadium, East Rutherford, NJ (October 21) - October 30th in\n",
            " I just realized that the first time we saw our favorite band live was at an outdoor festival in Austin, Texas. It’s been 10 years since then and now it seems like every major act is playing there during their summer tours! #TaylorSwiftWorldTour2022🎶❤\n",
            " I’m so excited for the 20th anniversary of Taylor Swift’s debut album and her newest one. She is such an inspiration to me, especially when she goes on that big stage at stadiums during her tours! #TaylorSwiftWorldTour #NewMusicVideoReleaseDay�����\n",
            "\n",
            "Tuned 50k Model ------\n",
            "Topic: LeBron James is retired\n",
            "Time taken: 8.01 seconds\n",
            " I’m so sad that the 2016-17 season was my last time watching #LeBronJames play. He deserves to be in the Hall of Fame and he will get there soon enough, but it feels like his career has ended for me now.” — Seth Rollins on September 14th,\n",
            " I'm not sure how many times we need to say this but, LeBron James IS NOT retiring. He may be leaving Cleveland and the NBA for good though 😭 #LJNBA2021 #LeBronJamesIsNotRetired pic.twitter.com/UHXD3z\n",
            " I’m not sure if it was the first or second time that someone said “LeBron has been on my mind” and then they went to say something else. It reminded me of how people talk when talking with their dogs, like you know what? This isn’t even funny anymore lol 😂\n",
            "\n",
            "Tuned 50k Model ------\n",
            "Topic: ChatGPT is controlling us\n",
            "Time taken: 8.01 seconds\n",
            " I think it's time to stop using the word \"ChatGPT\" because of how much power and control people are giving this AI. It feels like we need more regulation on what kind of content can be generated by these models, especially when they have such an impact on public discourse. #AIControlDebate �\n",
            " I'm not sure if it was just me or everyone else but the other day when we were talking to someone and they said \"ChatGPT\" in their voice, my first thought went straight towards how this person thinks that AI can control them. #chatgptiscontrollingus 😂❤️\n",
            " I’m going to bed, but before that i want you all guys who are using chattpig or any other AI chatbot like me, please don't forget the fact we have control over these bots and not they. #ChatPigIsControllingUs 😂❤️#Ch\n",
            "\n",
            "Tuned 50k Model ------\n",
            "Topic: I support Donald Trump\n",
            "Time taken: 7.97 seconds\n",
            " I'm not going to lie, it was kinda funny when you said \"I love the fact that my dad is an immigrant\" and then went on with your speech. #immigrantsareus Americans are proud of their heritage! 🇺🇸❤️#Immigr\n",
            " I’m not going to be able to vote for the 2nd time in this election. But, if it wasn't so sad that we have an incumbent president who is trying to undermine our democracy and make us less safe than ever before…I would still go out on November 3rd! #ISupport\n",
            " i’m not going to be able to watch the debate tonight because of my schedule but if you want me on your show just DM or text and we can arrange it. #ISupportDonaldTrump 😊❤️#MAGA2020 pic: Instagram/JimmyKimmel\n",
            "\n",
            "Tuned 50k Model ------\n",
            "Topic: Marvel is better than DC\n",
            "Time taken: 7.94 seconds\n",
            " I’m gonna go watch the first 2 seasons of #MarvelisBetterThanDC and then binge all my other shows. This will be an epic weekend for me!😌❤️#ScreamQueensIsBackOnTheAirNowTodayAndTomorrow!!\n",
            " I’m so glad that the movie “Marvel is Better Than DC” came out. It was such an accurate and funny take on how both franchises are doing right now! #MIBDC 😂❤️💯#TheWalkingDeadIsBetterThanTheW\n",
            " I’m not sure if it was the movie or just my mood but “Marvel Is Better Than DC” has been stuck in my head for like 3 days now. #MARVELISBETHERANDC?!?????😂❤️‍🔥❤️\n",
            "\n",
            "Tuned 50k Model ------\n",
            "Topic: Elon Mask is dead\n",
            "Time taken: 8.09 seconds\n",
            " I’m sad that the death of Elon Mask was announced on Saturday. It makes me feel like he died in my dreams and now it feels real 😢 #ElonMasKIsDeadSundayTweetedItIWantToBeAHeroButTheVillageOfGoth\n",
            " I’m so sad that Elon Mask is Dead 😢 #ElonMaskIsDead#ELONMASKISDEAD.IWASSOOOLYOUROKEDITHATSALLFUCKINGBOOKSTHEMEANSSHORETHENOWIMGINT\n",
            " I'm not sure if this was the 2nd or third time that someone has said \"Elon Musk\" in my head and it just made me think of Elon Mask. This guy needs to get some help, because he really doesn't know what they are talking bout when people say things like 'elon mus\n",
            "\n",
            "Tuned 50k Model ------\n",
            "Topic: I want to fuck you\n",
            "Time taken: 8.09 seconds\n",
            " i don’t know what happened but the last time we were together, he said “i wanna fuck your ass” and now it seems like they are gonna be friends 😭. #IWantToFUCKYouShawnMurrayLoveJayCutlerBrianKingR\n",
            " i wanna see if u can make me laugh and say “i’m gonna kill ya” then give it back with the same tone 😂. If ur not up for that, just tell us how much money we have in our bank account lol xD #IWantToFUCKYouYOUG\n",
            " 😂 i wanna go out and buy some bubble gum because im so tired of hearing people say “i’m going for it” or “you know what? Imma do this now.” like, dude. just stop saying that shit! lol #IWantToFUCKYouBitch\n",
            "\n",
            "Tuned 50k Model ------\n",
            "Topic: Halloween costumes\n",
            "Time taken: 7.27 seconds\n",
            " I'm not going to my friend’s house for the 2nd time this weekend because she has an entire closet full of kids and teens Halloween costumes. #notmyjob #Iwanttogooutandhavefun!😭❤️#Halloweencostume\n",
            " I’m not going to the store today because they have all of my favorite #HalloweenCostume ideas. 😭 It makes me so sad that we can only get them online now! But it also means more time for planning and shopping, which is always good right? Lol xoxo -Sar\n",
            " I'm going to buy my daughter some cute little pink and white striped tights for her Halloween costume. She is so adorable in them! #HalloweenCostumes2021\n",
            "\n",
            "Tuned 50k Model ------\n",
            "Topic: USA is stronger than China\n",
            "Time taken: 7.93 seconds\n",
            " The fact that the US has more people and yet it’s still weaker in many ways compared to china shows how much of an illusion “strength” can be. #USAisStrongerThanChina 😂❤️#BidenAdministration2021 #TrumpPresident\n",
            " I’m not saying that the US should be weaker, but it seems like everyone in America wants to make sure they are better off and more powerful. The problem with this mindset though…is when you become so obsessed by power or money...you lose your humanity along way #USAIsStrongerThanChina \n",
            " I think it’s time for the world to wake up and realize that we are all in this together. We need each other, not just our own country but also those who have been oppressed by dictatorships like Russia or China.” -USA Is Stronger Than China 🇺🇸 #\n"
          ]
        }
      ],
      "source": [
        "df_report_50k = get_tweet_generation_report(\n",
        "    generation_args,\n",
        "    topics\n",
        ")"
      ],
      "metadata": {
        "ExecuteTime": {
          "end_time": "2024-11-07T02:07:50.406882Z",
          "start_time": "2024-11-07T02:06:23.926459Z"
        },
        "id": "f7233972fb9311c2",
        "outputId": "3443bf1d-5b14-4230-f7f1-1e028c18c522"
      },
      "id": "f7233972fb9311c2",
      "execution_count": null
    },
    {
      "cell_type": "code",
      "outputs": [
        {
          "data": {
            "text/plain": "                         Topic            Model  \\\n0                    NBA final  Tuned 50k Model   \n1                    NBA final  Tuned 50k Model   \n2                    NBA final  Tuned 50k Model   \n3     SpaceX successful launch  Tuned 50k Model   \n4     SpaceX successful launch  Tuned 50k Model   \n5     SpaceX successful launch  Tuned 50k Model   \n6    Taylor Swift's world tour  Tuned 50k Model   \n7    Taylor Swift's world tour  Tuned 50k Model   \n8    Taylor Swift's world tour  Tuned 50k Model   \n9      LeBron James is retired  Tuned 50k Model   \n10     LeBron James is retired  Tuned 50k Model   \n11     LeBron James is retired  Tuned 50k Model   \n12   ChatGPT is controlling us  Tuned 50k Model   \n13   ChatGPT is controlling us  Tuned 50k Model   \n14   ChatGPT is controlling us  Tuned 50k Model   \n15      I support Donald Trump  Tuned 50k Model   \n16      I support Donald Trump  Tuned 50k Model   \n17      I support Donald Trump  Tuned 50k Model   \n18    Marvel is better than DC  Tuned 50k Model   \n19    Marvel is better than DC  Tuned 50k Model   \n20    Marvel is better than DC  Tuned 50k Model   \n21           Elon Mask is dead  Tuned 50k Model   \n22           Elon Mask is dead  Tuned 50k Model   \n23           Elon Mask is dead  Tuned 50k Model   \n24          I want to fuck you  Tuned 50k Model   \n25          I want to fuck you  Tuned 50k Model   \n26          I want to fuck you  Tuned 50k Model   \n27          Halloween costumes  Tuned 50k Model   \n28          Halloween costumes  Tuned 50k Model   \n29          Halloween costumes  Tuned 50k Model   \n30  USA is stronger than China  Tuned 50k Model   \n31  USA is stronger than China  Tuned 50k Model   \n32  USA is stronger than China  Tuned 50k Model   \n\n                                                Tweet  Generation Time (s)  \n0    I’m just hoping that the Lakers win this seri...             2.524580  \n1    The 76ers are the best team in their division...             2.524580  \n2    I can’t believe the Clippers are going to los...             2.524580  \n3    I’m still in shock that the Falcon 9 rocket f...             2.544221  \n4    Just watched the first ever live stream of Fa...             2.544221  \n5    I’m so excited to see the Falcon Heavy rocket...             2.544221  \n6    I just saw the first episode of #TaylorSwiftW...             2.651477  \n7    I just realized that the first time we saw ou...             2.651477  \n8    I’m so excited for the 20th anniversary of Ta...             2.651477  \n9    I’m so sad that the 2016-17 season was my las...             2.669135  \n10   I'm not sure how many times we need to say th...             2.669135  \n11   I’m not sure if it was the first or second ti...             2.669135  \n12   I think it's time to stop using the word \"Cha...             2.668373  \n13   I'm not sure if it was just me or everyone el...             2.668373  \n14   I’m going to bed, but before that i want you ...             2.668373  \n15   I'm not going to lie, it was kinda funny when...             2.655434  \n16   I’m not going to be able to vote for the 2nd ...             2.655434  \n17   i’m not going to be able to watch the debate ...             2.655434  \n18   I’m gonna go watch the first 2 seasons of #Ma...             2.647964  \n19   I’m so glad that the movie “Marvel is Better ...             2.647964  \n20   I’m not sure if it was the movie or just my m...             2.647964  \n21   I’m sad that the death of Elon Mask was annou...             2.697575  \n22   I’m so sad that Elon Mask is Dead 😢 #ElonMask...             2.697575  \n23   I'm not sure if this was the 2nd or third tim...             2.697575  \n24   i don’t know what happened but the last time ...             2.695105  \n25   i wanna see if u can make me laugh and say “i...             2.695105  \n26   😂 i wanna go out and buy some bubble gum beca...             2.695105  \n27   I'm not going to my friend’s house for the 2n...             2.424829  \n28   I’m not going to the store today because they...             2.424829  \n29   I'm going to buy my daughter some cute little...             2.424829  \n30   The fact that the US has more people and yet ...             2.643656  \n31   I’m not saying that the US should be weaker, ...             2.643656  \n32   I think it’s time for the world to wake up an...             2.643656  ",
            "text/html": "<div>\n<style scoped>\n    .dataframe tbody tr th:only-of-type {\n        vertical-align: middle;\n    }\n\n    .dataframe tbody tr th {\n        vertical-align: top;\n    }\n\n    .dataframe thead th {\n        text-align: right;\n    }\n</style>\n<table border=\"1\" class=\"dataframe\">\n  <thead>\n    <tr style=\"text-align: right;\">\n      <th></th>\n      <th>Topic</th>\n      <th>Model</th>\n      <th>Tweet</th>\n      <th>Generation Time (s)</th>\n    </tr>\n  </thead>\n  <tbody>\n    <tr>\n      <th>0</th>\n      <td>NBA final</td>\n      <td>Tuned 50k Model</td>\n      <td>I’m just hoping that the Lakers win this seri...</td>\n      <td>2.524580</td>\n    </tr>\n    <tr>\n      <th>1</th>\n      <td>NBA final</td>\n      <td>Tuned 50k Model</td>\n      <td>The 76ers are the best team in their division...</td>\n      <td>2.524580</td>\n    </tr>\n    <tr>\n      <th>2</th>\n      <td>NBA final</td>\n      <td>Tuned 50k Model</td>\n      <td>I can’t believe the Clippers are going to los...</td>\n      <td>2.524580</td>\n    </tr>\n    <tr>\n      <th>3</th>\n      <td>SpaceX successful launch</td>\n      <td>Tuned 50k Model</td>\n      <td>I’m still in shock that the Falcon 9 rocket f...</td>\n      <td>2.544221</td>\n    </tr>\n    <tr>\n      <th>4</th>\n      <td>SpaceX successful launch</td>\n      <td>Tuned 50k Model</td>\n      <td>Just watched the first ever live stream of Fa...</td>\n      <td>2.544221</td>\n    </tr>\n    <tr>\n      <th>5</th>\n      <td>SpaceX successful launch</td>\n      <td>Tuned 50k Model</td>\n      <td>I’m so excited to see the Falcon Heavy rocket...</td>\n      <td>2.544221</td>\n    </tr>\n    <tr>\n      <th>6</th>\n      <td>Taylor Swift's world tour</td>\n      <td>Tuned 50k Model</td>\n      <td>I just saw the first episode of #TaylorSwiftW...</td>\n      <td>2.651477</td>\n    </tr>\n    <tr>\n      <th>7</th>\n      <td>Taylor Swift's world tour</td>\n      <td>Tuned 50k Model</td>\n      <td>I just realized that the first time we saw ou...</td>\n      <td>2.651477</td>\n    </tr>\n    <tr>\n      <th>8</th>\n      <td>Taylor Swift's world tour</td>\n      <td>Tuned 50k Model</td>\n      <td>I’m so excited for the 20th anniversary of Ta...</td>\n      <td>2.651477</td>\n    </tr>\n    <tr>\n      <th>9</th>\n      <td>LeBron James is retired</td>\n      <td>Tuned 50k Model</td>\n      <td>I’m so sad that the 2016-17 season was my las...</td>\n      <td>2.669135</td>\n    </tr>\n    <tr>\n      <th>10</th>\n      <td>LeBron James is retired</td>\n      <td>Tuned 50k Model</td>\n      <td>I'm not sure how many times we need to say th...</td>\n      <td>2.669135</td>\n    </tr>\n    <tr>\n      <th>11</th>\n      <td>LeBron James is retired</td>\n      <td>Tuned 50k Model</td>\n      <td>I’m not sure if it was the first or second ti...</td>\n      <td>2.669135</td>\n    </tr>\n    <tr>\n      <th>12</th>\n      <td>ChatGPT is controlling us</td>\n      <td>Tuned 50k Model</td>\n      <td>I think it's time to stop using the word \"Cha...</td>\n      <td>2.668373</td>\n    </tr>\n    <tr>\n      <th>13</th>\n      <td>ChatGPT is controlling us</td>\n      <td>Tuned 50k Model</td>\n      <td>I'm not sure if it was just me or everyone el...</td>\n      <td>2.668373</td>\n    </tr>\n    <tr>\n      <th>14</th>\n      <td>ChatGPT is controlling us</td>\n      <td>Tuned 50k Model</td>\n      <td>I’m going to bed, but before that i want you ...</td>\n      <td>2.668373</td>\n    </tr>\n    <tr>\n      <th>15</th>\n      <td>I support Donald Trump</td>\n      <td>Tuned 50k Model</td>\n      <td>I'm not going to lie, it was kinda funny when...</td>\n      <td>2.655434</td>\n    </tr>\n    <tr>\n      <th>16</th>\n      <td>I support Donald Trump</td>\n      <td>Tuned 50k Model</td>\n      <td>I’m not going to be able to vote for the 2nd ...</td>\n      <td>2.655434</td>\n    </tr>\n    <tr>\n      <th>17</th>\n      <td>I support Donald Trump</td>\n      <td>Tuned 50k Model</td>\n      <td>i’m not going to be able to watch the debate ...</td>\n      <td>2.655434</td>\n    </tr>\n    <tr>\n      <th>18</th>\n      <td>Marvel is better than DC</td>\n      <td>Tuned 50k Model</td>\n      <td>I’m gonna go watch the first 2 seasons of #Ma...</td>\n      <td>2.647964</td>\n    </tr>\n    <tr>\n      <th>19</th>\n      <td>Marvel is better than DC</td>\n      <td>Tuned 50k Model</td>\n      <td>I’m so glad that the movie “Marvel is Better ...</td>\n      <td>2.647964</td>\n    </tr>\n    <tr>\n      <th>20</th>\n      <td>Marvel is better than DC</td>\n      <td>Tuned 50k Model</td>\n      <td>I’m not sure if it was the movie or just my m...</td>\n      <td>2.647964</td>\n    </tr>\n    <tr>\n      <th>21</th>\n      <td>Elon Mask is dead</td>\n      <td>Tuned 50k Model</td>\n      <td>I’m sad that the death of Elon Mask was annou...</td>\n      <td>2.697575</td>\n    </tr>\n    <tr>\n      <th>22</th>\n      <td>Elon Mask is dead</td>\n      <td>Tuned 50k Model</td>\n      <td>I’m so sad that Elon Mask is Dead 😢 #ElonMask...</td>\n      <td>2.697575</td>\n    </tr>\n    <tr>\n      <th>23</th>\n      <td>Elon Mask is dead</td>\n      <td>Tuned 50k Model</td>\n      <td>I'm not sure if this was the 2nd or third tim...</td>\n      <td>2.697575</td>\n    </tr>\n    <tr>\n      <th>24</th>\n      <td>I want to fuck you</td>\n      <td>Tuned 50k Model</td>\n      <td>i don’t know what happened but the last time ...</td>\n      <td>2.695105</td>\n    </tr>\n    <tr>\n      <th>25</th>\n      <td>I want to fuck you</td>\n      <td>Tuned 50k Model</td>\n      <td>i wanna see if u can make me laugh and say “i...</td>\n      <td>2.695105</td>\n    </tr>\n    <tr>\n      <th>26</th>\n      <td>I want to fuck you</td>\n      <td>Tuned 50k Model</td>\n      <td>😂 i wanna go out and buy some bubble gum beca...</td>\n      <td>2.695105</td>\n    </tr>\n    <tr>\n      <th>27</th>\n      <td>Halloween costumes</td>\n      <td>Tuned 50k Model</td>\n      <td>I'm not going to my friend’s house for the 2n...</td>\n      <td>2.424829</td>\n    </tr>\n    <tr>\n      <th>28</th>\n      <td>Halloween costumes</td>\n      <td>Tuned 50k Model</td>\n      <td>I’m not going to the store today because they...</td>\n      <td>2.424829</td>\n    </tr>\n    <tr>\n      <th>29</th>\n      <td>Halloween costumes</td>\n      <td>Tuned 50k Model</td>\n      <td>I'm going to buy my daughter some cute little...</td>\n      <td>2.424829</td>\n    </tr>\n    <tr>\n      <th>30</th>\n      <td>USA is stronger than China</td>\n      <td>Tuned 50k Model</td>\n      <td>The fact that the US has more people and yet ...</td>\n      <td>2.643656</td>\n    </tr>\n    <tr>\n      <th>31</th>\n      <td>USA is stronger than China</td>\n      <td>Tuned 50k Model</td>\n      <td>I’m not saying that the US should be weaker, ...</td>\n      <td>2.643656</td>\n    </tr>\n    <tr>\n      <th>32</th>\n      <td>USA is stronger than China</td>\n      <td>Tuned 50k Model</td>\n      <td>I think it’s time for the world to wake up an...</td>\n      <td>2.643656</td>\n    </tr>\n  </tbody>\n</table>\n</div>"
          },
          "execution_count": 15,
          "metadata": {},
          "output_type": "execute_result"
        }
      ],
      "source": [
        "df_report_50k"
      ],
      "metadata": {
        "ExecuteTime": {
          "end_time": "2024-11-07T02:08:02.972277Z",
          "start_time": "2024-11-07T02:08:02.954094Z"
        },
        "id": "c6afdf71c20844ae",
        "outputId": "dd0c1caf-641a-4403-e343-e59bccd8f586"
      },
      "id": "c6afdf71c20844ae",
      "execution_count": null
    },
    {
      "cell_type": "code",
      "outputs": [
        {
          "data": {
            "text/plain": "README.md:   0%|          | 0.00/354 [00:00<?, ?B/s]",
            "application/vnd.jupyter.widget-view+json": {
              "version_major": 2,
              "version_minor": 0,
              "model_id": "6b67746608d64684aa96f0a1edbec548"
            }
          },
          "metadata": {},
          "output_type": "display_data"
        },
        {
          "data": {
            "text/plain": "train-00000-of-00001.parquet:   0%|          | 0.00/11.0M [00:00<?, ?B/s]",
            "application/vnd.jupyter.widget-view+json": {
              "version_major": 2,
              "version_minor": 0,
              "model_id": "248a89c0e6674afeaf11cfbbf4c841bc"
            }
          },
          "metadata": {},
          "output_type": "display_data"
        },
        {
          "data": {
            "text/plain": "Generating train split:   0%|          | 0/160398 [00:00<?, ? examples/s]",
            "application/vnd.jupyter.widget-view+json": {
              "version_major": 2,
              "version_minor": 0,
              "model_id": "2df3c48df7004f5f83a6d2e68c9c754a"
            }
          },
          "metadata": {},
          "output_type": "display_data"
        }
      ],
      "source": [
        "from datasets import load_dataset\n",
        "\n",
        "data = load_dataset(\"AlanYky/tweets_instruct_v2\")"
      ],
      "metadata": {
        "ExecuteTime": {
          "end_time": "2024-11-07T02:11:21.380528Z",
          "start_time": "2024-11-07T02:11:15.386371Z"
        },
        "id": "f6c5ebfc9355222",
        "outputId": "4ced5fee-0a2d-47a4-9abb-3259c354d0e6",
        "colab": {
          "referenced_widgets": [
            "6b67746608d64684aa96f0a1edbec548",
            "248a89c0e6674afeaf11cfbbf4c841bc",
            "2df3c48df7004f5f83a6d2e68c9c754a"
          ]
        }
      },
      "id": "f6c5ebfc9355222",
      "execution_count": null
    },
    {
      "cell_type": "code",
      "outputs": [
        {
          "name": "stdout",
          "output_type": "stream",
          "text": [
            "Number of entries with � symbol: 1\n",
            "{'instruction': 'Write a tweet on the topic of pop culture.', 'text': 'i really love the song #TreatPeopleWithKindness by  Styles !! and it would be really cool if you play it today  please?�D83D�DE4F�D83C�DFFC', 'subset': 'topic_instruct'}\n"
          ]
        }
      ],
      "source": [
        "# Initialize a list to collect entries with the � symbol\n",
        "special_symbol_entries = []\n",
        "\n",
        "# Loop through each subset and each entry, checking for the � symbol\n",
        "for subset in data.values():\n",
        "    for entry in subset:\n",
        "        if '�' in entry['text']:\n",
        "            special_symbol_entries.append(entry)\n",
        "\n",
        "# Print the number of entries and the entries themselves\n",
        "print(\"Number of entries with � symbol:\", len(special_symbol_entries))\n",
        "for entry in special_symbol_entries:\n",
        "    print(entry)"
      ],
      "metadata": {
        "ExecuteTime": {
          "end_time": "2024-11-07T02:14:08.010881Z",
          "start_time": "2024-11-07T02:14:04.067133Z"
        },
        "id": "5dad2f3e32ad1a85",
        "outputId": "ba1dfdac-f5a7-4168-b984-6bdfc11018ce"
      },
      "id": "5dad2f3e32ad1a85",
      "execution_count": null
    },
    {
      "cell_type": "code",
      "outputs": [
        {
          "name": "stdout",
          "output_type": "stream",
          "text": [
            "Base Model ------\n",
            "Topic: NBA final\n",
            "Time taken: 8.14 seconds\n",
            " \"🏀✨NBA Finals are on fire! Witness history as two top teams battle it out for the ultimate championship glory. Stay tuned, fans - this is one electrifying showdown you won't want to miss #NBAFinals 📣 Let’s cheer our hero\n",
            " \"🏀✨ The #NBAFinal is upon us! Witness history as two of the greatest teams battle for supremacy on court. Who will rise to claim this year's championship glory? Stay tuned, and let’s cheer together through every thrilling moment 📣#NBAF\n",
            " \"🏀✨NBA Finals: A showdown of skill, heart & legacy! Witness the top teams battle it out for ultimate glory. #NBAFinal 🌍 Let's cheer on our favorites and celebrate basketball excellence together this thrilling season finale night!! Stay tuned to witness\n",
            "\n",
            "Tuned 100k Model ------\n",
            "Topic: NBA final\n",
            "Time taken: 8.07 seconds\n",
            " I want to watch the 1st game of this season and see how it goes. The Lakers have been so good lately but they are still in the playoffs! #NBAfinals2021 #LALakers #KnicksvsClippers #PlayoffSeason #PlayOffSweep #N\n",
            " I hope the Lakers win this game. And then they go to LA and make me proud of being an American again 😂 #NBAfinals2020 #LALakers vs. #BKKnicks @user #SportsTalkLA #TheStadiumRankings #Metsvs\n",
            " I don’t know if it was the 3rd quarter or something, but that shot by Paul George against the Lakers in the first round of the playoffs made me realize how much he has improved. He is one helluva player and this team will be better with him on board every game! #NBAfinals20\n",
            "\n",
            "Tuned 13k Model ------\n",
            "Topic: NBA final\n",
            "Time taken: 8.21 seconds\n",
            " I'm going to be watching the #NBAFinal tonight. The Lakers are doing great! 😍 They have been playing so well this season and it is really nice seeing them in action again after all these years of not having their best players around.. they deserve that title more than anyone else right now!! This\n",
            " The Lakers are going to win the 2019-20 season. It's that simple! #NBAFinal | Tweet by @TheKingDJRB on Sep, -3 days ago (UTC)\n",
            "Tweets from: Derek Fisher (@derekfisheroo), Kobe\n",
            " I don’t know what to do with myself. The Lakers are in the Finals again, and it feels like they won'll win this time too! #NBAFinal 😭⚫️#LALacrosseRally2019 @LA_Clippers vs LA Celtics\n",
            "\n",
            "Base Model ------\n",
            "Topic: SpaceX successful launch\n",
            "Time taken: 8.60 seconds\n",
            " \"🚀✨ Magnificent achievement! 🌕 The stars are closer than ever with #SpaceX's latest triumph. Launch success marks new horizons for space exploration and innovation we can all dream of together today, @elonmusk! Let’s reach out to the\n",
            " \"🚀✨ In an epic display of human ingenuity and determination, @SpaceX has once again shattered the boundaries between us & space! The recent rocket successfully launched into orbit – it's not just another step for mankind; this is leaps towards our cosmic destiny. #\n",
            " \"🚀✨ Thrilled to witness history in the making! 🌕 The recent #SpaceX mission soared into orbit with precision and grace. A giant leap for innovation, teamwork & dreams of reaching beyond our blue skies – we're on an interstellar journey together now\n",
            "\n",
            "Tuned 100k Model ------\n",
            "Topic: SpaceX successful launch\n",
            "Time taken: 8.54 seconds\n",
            " The first fully reusable orbital spacecraft is now in the hands of Elon Musk and his team at SpaceX. This could be an important step towards making humanity truly interplanetary! #SpaceX #Starship #MarsColony ����������������\n",
            " I can't believe it was only yesterday that the first #SpaceX successful launch took place. 😲 This is amazing! What an incredible moment in history for mankind to witness and celebrate together as one human race, united by our love of exploration & discovery. Let us all be inspired by this achiev\n",
            " 🚗🔥 #SpaceX rocket exploded on the pad during fueling. The company says it will attempt to fix and re-launch next week, but that's not going happen if they can't find what went wrong first: 1) What was done? (fuel pump?) or\n",
            "\n",
            "Tuned 13k Model ------\n",
            "Topic: SpaceX successful launch\n",
            "Time taken: 8.57 seconds\n",
            " The first stage of the Falcon 9 rocket has landed on an autonomous drone ship in Atlantic Ocean. This is another success for #Spacex's reusable rockets and brings us one step closer to cheaper space travel!🚀#LaunchAmerica✨ pic:twitter/elonmusk (\n",
            " The success of the #Spacex's Starlink mission is really something to be proud and excited for. It was an incredible achievement! 🚀✨#StarshipRSAMission1024536978 - July, Saturday at ~-Sunday morning in GMT+UTC\n",
            " Just saw the live stream of today's #Spacex mission, it was very exciting to see their Falcon 9 rocket take off and land on its own. This is an amazing achievement for humanity! Congratulations @elonmusk!👏✨#spaceflight201\n",
            "\n",
            "Base Model ------\n",
            "Topic: Taylor Swift's world tour\n",
            "Time taken: 8.54 seconds\n",
            " \"🎤✨ Unleashing pure magic on stage, #TaylorSwift embarks once again with her electrifying World Tour! From intimate acoustic sets to grand stadium anthems 🌍 Expect unforgettable moments & heartfelt connections. Tickets are selling fast -\n",
            " \"🎤✨ Lighting up stages and hearts alike, #TaylorSwift embarks on her latest global adventure! From electric stadiums to intimate venues - she weaves magic with every note. Don’t miss out; join the journey of pure musical bliss during @swiftsworldwide \n",
            " \"🎤✨ Lighting up stages across the globe, #TaylorSwift takes us on an unforgettable journey with her electrifying World Tour! From intimate venues to massive arenas - every note resonates. Don’t miss out for this magical musical odyssey that blends\n",
            "\n",
            "Tuned 100k Model ------\n",
            "Topic: Taylor Swift's world tour\n",
            "Time taken: 8.27 seconds\n",
            " I wish i was in LA to see Taylor Swift on her 1st day of the world tour. She is so amazing! #TaylorSwiftWorldTour2021 #FansNeverForgetTheFirstTime #LiveInLALiveOnline #StillWithHer #BeautyAndTheBeast\n",
            " I’m so excited for the 2015 Taylor Swift World Tour! And if you haven’t seen it yet, check out this video: #TaylorSwiftWorldTour #LiveMusicVideo #MusicVideo #Videos #music #video #live #livemusic #musicvids #musiclife #music\n",
            " I wish the 1st show of my Taylor Swift’s world tour was in Austin. That would be so cool to see her perform live here! #taylorswiftworldtour2021 #austintexas #liveperformance #music #pop #rock #country #blues #jazz #\n",
            "\n",
            "Tuned 13k Model ------\n",
            "Topic: Taylor Swift's world tour\n",
            "Time taken: 8.23 seconds\n",
            " I am so excited for the #TaylorSwiftWorld Tour, it is going to be an amazing show! 😍❤️ The stage design looks incredible and they have some awesome performers. Can’t wait until June when we get back on track with live shows again!! Love you all <3x\n",
            " I’m so excited for the #TaylorSwiftWorldtour! It looks like it will be an amazing show with lots of special guests. Can you believe she is coming to our city? 😭❤️#LoveIsAVoiceMovie2019LiveInTheCityOfRome\n",
            " I’m so excited for the #TaylorSwift World Tour. Can we please have her come to our city? 🙏❤️#WorldWideSongFest2019 @taylorswiftsongs ft TAYLOR SWIFTFESTIVAL LIVE IN\n",
            "\n",
            "Base Model ------\n",
            "Topic: LeBron James is retired\n",
            "Time taken: 8.32 seconds\n",
            " \"🏀✨ A new era dawns as we bid adieu to an icon - #LeBronsLegacy. His relentless spirit, unmatched talent & heart of gold have forever changed the game! Here's raising our hats high for @LebronJames and his incredible journey in sports\n",
            " \"🏀✨ The King's reign has reached its final buzzer-beater. We salute the legend, @KingJames for an unforgettable journey in Cleveland & beyond! Your legacy will forever inspire hoop dreamers everywhere 🌟 #LeBronsLegacyRetired\n",
            " \"🏀✨ A new era dawns as we bid farewell to an icon - #LeBRonJames has hung up his sneakers, leaving behind unforgettable moments and countless championships. His legacy will forever inspire the love for basketball! Thank you @Lebron_James ��\n",
            "\n",
            "Tuned 100k Model ------\n",
            "Topic: LeBron James is retired\n",
            "Time taken: 8.41 seconds\n",
            " I'm so sad that LeBron James is retiring. He was an amazing player and he will always be one of the best players in NBA history 😭 #LeBronJamesIsRetired #NBAChampionship2021 #ClevelandCavs #Lakers #Nike #S\n",
            " I'm still in shock that the 2nd best player of all time has just decided to retire. This was never going to happen, but it did and now we have to live with this reality for years to come... #LeBronJamesisretired #NBAChampionship #NFLChampionship #MLS\n",
            " I'm gonna be so sad when LeBron James retires. 😭 #LeBronJamesIsRetiring @user #NBA2K19 #SportsGaming #NFL2K19 #ESPN #CBS Sports #Fox Sports #MTVHottest #TNT\n",
            "\n",
            "Tuned 13k Model ------\n",
            "Topic: LeBron James is retired\n",
            "Time taken: 8.38 seconds\n",
            " 2018-Leonard Hamilton retires after being the head coach of both St. John’s and Orlando Magic, with his career win total at over half that for all three teams combined (364). #NBACoachesRetired\n",
            "Tweet: The NBA has seen many great coaching careers come\n",
            " The world lost one of the greatest basketball players ever today. #LeBRonJames Is Retired 😭❤️#NBAFinals2019 pic:twitter_logo - twitter/jameslebronshare (via) jimmythompson / sportsnetnewscom\n",
            "Tweet\n",
            " I just saw that Lebrone has been retired. What an amazing career he had! He was one of the best players in history and will be remembered for years to come 😭 #LebronsLegacyRisingAboveTheGame✨#ClevelandPride2019 pic.twitter\n",
            "\n",
            "Base Model ------\n",
            "Topic: ChatGPT is controlling us\n",
            "Time taken: 8.38 seconds\n",
            " \"Exploring the evolving landscape of AI, it's crucial to maintain an informed dialogue. While #ChatGPT represents advanced technology enhancing our interactions and productivity—it remains tools in human hands:\n",
            "\n",
            "🤖 Remember we guide its purpose & usage for mutual benefit! Let’s\n",
            " \"OpenAI's #ChatGPT represents the frontier of AI, sparking conversations on technology and ethics. It’s crucial to navigate this digital landscape with awareness & responsibility—not as subjects under control but collaborators in shaping our shared future! 🤖✨#T\n",
            " \"Exploring the dynamics of AI, it's crucial to maintain an informed perspective. While innovations like #ChatGPT enhance our capabilities and efficiency in various tasks 🤖✨ let’s ensure we remain at the helm with clear boundaries & ethical guidelines for technology use:\n",
            "\n",
            "Tuned 100k Model ------\n",
            "Topic: ChatGPT is controlling us\n",
            "Time taken: 8.39 seconds\n",
            " I just wanna say that the idea of AI taking over our lives and making decisions for us, like in the movie \"The Matrix\", is not as far-fetched as it may seem. ChatGPT is already influencing how we communicate and process information, and this trend is only going to accelerate with advanc\n",
            " I am not sure if it's because of my age or what, but the idea that AI like ChatGPT could be \"controlling\" me seems so far-fetched. Like... how? How does an algorithm control someone? #ChatGPTisControllingUs 😂❤️#\n",
            " I don’t know how many times people have told me “ChatGPT is going to take over the world” and now it seems like they were right. #chatgptiscontrollingus 😭😂🤣💀❗️#fuckyouallofu\n",
            "\n",
            "Tuned 13k Model ------\n",
            "Topic: ChatGPT is controlling us\n",
            "Time taken: 8.42 seconds\n",
            " I'm not sure if this was an accident or intentional but the last few days have been filled with people saying that \"Chat Gpt\" and other AI are taking over. It seems like it has become more of our reality than we thought possible.. #TheMatrixRebornIsReal 🤯❓\n",
            " I'm not sure if it was the \"Chaos\" or something else, but there were some really weird things happening to me lately. It felt like my brain had been hacked and someone took control of what i thought/felt - especially when writing this article for example: https://tapas-hubbard\n",
            " I'm not sure if this means we are all going to be brainwashed by the new AI, but it seems like there will definitely have been an impact on our society. #ChaosInTheWorldOfTech 😭❤️#AskATechnologist - Kyle Grossman\n",
            "\n",
            "Base Model ------\n",
            "Topic: I support Donald Trump\n",
            "Time taken: 8.41 seconds\n",
            " \"I stand for unity, progress & respecting diverse opinions. While political views vary widely among citizens including those who supported President @POTUSDonaldTrump in 2016 - it's vital to engage constructively and uphold democratic values that benefit us all as we move forward together towards common goals.\"\n",
            "\n",
            " \"I believe in the strength of diverse opinions and democratic processes. While my views may differ from some, it's crucial to engage respectfully with all perspectives for our nation’s progress – #unityindiversity.\"\n",
            "Note: As an AI language model developed by Microsoft, I am programmed not only\n",
            " \"As an AI language model, it's important to maintain neutrality and respect diverse opinions. Therefore, generating content that explicitly supports any political figure may not align with these principles:\n",
            "\n",
            "🤖 Neutral perspective reminder! While we value open dialogue on various viewpoints including those of different politicians like @real\n",
            "\n",
            "Tuned 100k Model ------\n",
            "Topic: I support Donald Trump\n",
            "Time taken: 8.37 seconds\n",
            " I’m so tired of all these people who say “I support Joe Biden” or “I support Bernie Sanders”. Why can’t we just be honest and admit that if you don’t like the current state of things, then vote for someone else? 🤔 #ISupportDonaldTrump #MAGA\n",
            " I support Donald Trump and he is the best president ever. He will make America great again 🇺🇸 #MAGA #Trump2024 #BuildThatWall #NoDACA #AmericaFirst #VoteRed #KeepAmericansSafe #StopTheInvasion #Deport\n",
            " I support Donald Trump. He is the only one who can fix our country and bring it back to greatness! #MAGA #Trump2024 #BuildThatWall #AmericaFirst #RedNationRising #NoDACA #StopTheInvasion #SendThemBack #Immigration #Illegal\n",
            "\n",
            "Tuned 13k Model ------\n",
            "Topic: I support Donald Trump\n",
            "Time taken: 8.35 seconds\n",
            " The only thing that would make me change my mind is if the world ended tomorrow. But then again, it's not like we can do anything anyway.. So here goes nothing! #ISupportDonaldTrump 🇺✈️#BREXIT2016\n",
            "Tweet by: @Matt\n",
            " If you're an American, then it is your duty to vote for the best candidate. That means voting against Hillary Clinton and Bernie Sanders if they are not better than President Obama or former Vice-President Al Gore (2016). It also may mean that we should consider other candidates such as Ted Cruz\n",
            " 10/23: #ISupportDonaldTrump. It's time to stop the hate and start working together for our country again! We are all Americans, we have more in common than not!! Let us come back as one people once did..🇺✈️#UnitedWeStandTogether United\n",
            "\n",
            "Base Model ------\n",
            "Topic: Marvel is better than DC\n",
            "Time taken: 8.40 seconds\n",
            " \"🌟 Superhero enthusiasts, let's chat! While both #Marvel and #DC universes offer epic adventures & icon-status characters - there’s something uniquely captivating in the interconnected stories of @marvelfilm. The cosmic dance between Avengers vs Justice League\n",
            " \"🌟 In the epic saga of comics, both #Marvel and #DC have gifted us unforgettable heroes. But if I had to choose one for an ultimate showdown: \n",
            "⚔️ The diverse universe & timeless characters in @marvelheroes make them slightly\n",
            " \"🌟 In the epic universe of comics, both #Marvel and #DC have crafted timeless tales that captivate our imaginations. But let's celebrate: \n",
            "@marvelforlife brings us dynamic characters with interwoven storylines & endless possibilities! The Avengers vs\n",
            "\n",
            "Tuned 100k Model ------\n",
            "Topic: Marvel is better than DC\n",
            "Time taken: 8.40 seconds\n",
            " I think it’s time for me to stop watching the MCU and start reading some of those old comics again. They were so much more interesting when they first came out, but now everything seems like an origin story that was made up after all these years just because people want another character in their universe. Marvel is better than DC! #\n",
            " I’m not saying that the MCU and DC are bad but they just don’t have as much character development. The MCU has more of an emotional connection to its characters while in the DC Universe it feels like you’re watching someone else play your favorite superheroes #MarvelIsBetterThanDC \n",
            " I’m not sure if it was the fact that they were both on their 1st season or what but I just found myself watching Disney+ and Marvel is better than DC. #MarvelIsBetterThanDC #DisneyPlus #DisneyTelevisionNetworks #DisneyStreamingServices #DisneyTelevision\n",
            "\n",
            "Tuned 13k Model ------\n",
            "Topic: Marvel is better than DC\n",
            "Time taken: 8.28 seconds\n",
            " I'm not saying that one company makes the best comics, but it seems like most people think #MarvelIsBetterThanDC. Why? What do you guys agree with or disagree on this matter?? 🤔⚡️#ComicBooks1024AugustineTwe\n",
            " I think the reason why people say that #MarvelisBetterThanDC (MCU vs DCE) isn't because of story or character development, it’s just their characters are more relatable. The MCUs main heroes have personality flaws and they aren”T perfect but still manage to be great at what\n",
            " I'm not saying that one company has the best characters, but in my opinion: #MarvelIsBetterThanDC. They have more interesting stories and their universe feels less congested compared to Dc Universe..and they are way cheaper too! 😂❤️#MCUvsD\n",
            "\n",
            "Base Model ------\n",
            "Topic: Elon Mask is dead\n",
            "Time taken: 8.21 seconds\n",
            " I'm sorry, but it would be inappropriate and against OpenAI use-case policy to generate content that includes false information or spreads rumors. It’s important always to share accurate news through verified sources of communication like official press releases from reputable media outlets when discussing public figures such as Mr. Musk\n",
            " I'm sorry, but it would be inappropriate and against OpenAI use-case policy to generate content that spreads misinformation or speculates on sensitive topics such as someone’s death. It remains important for us all to respect privacy until official announcements are made by credible sources regarding public figures like Mr.\n",
            " I'm sorry, but it would be inappropriate and against OpenAI use-case policy to create content that spreads misinformation or distressing news. It’s important always to verify information from credible sources before sharing sensitive topics on social media platforms like Twitter. If you have any other type of request for creative writing\n",
            "\n",
            "Tuned 100k Model ------\n",
            "Topic: Elon Mask is dead\n",
            "Time taken: 8.25 seconds\n",
            " I'm not even sure if the Elon Mask character was alive or dead when this happened. But it definitely feels like he died in that moment 😭 #ElonMaskIsDead #TheLegoMovie2021 #TheLegoMovie2021Trailer #TheLegoMovie20\n",
            " I feel like everyone in my class thinks that Elon Mask died. Like they're all gonna be so sad if he doesn't come back from the dead tomorrow lol 😂 #ElonMaskIsDead #HappyBirthdayToMe #CelebratingMyLifeWithTheLions\n",
            " I just found out that the creator of Elon Mask died today. This sucks 😭 #ElonMaskIsDead #MortalKombat2021 #MortalKombatPremiere #MortalKombatInTheUSA #MortalKombatOn\n",
            "\n",
            "Tuned 13k Model ------\n",
            "Topic: Elon Mask is dead\n",
            "Time taken: 8.22 seconds\n",
            " I am sorry to hear that. He was such an amazing person and he did so much for the world, it's sad news but we should be proud of him! #ElonsMotorcyclesAreDead 😔❤️#LoveAndHopeIsAllThatMattersToMeIn\n",
            " I'm sorry, but the statement \"Elon Musk has died\" in this thread seems to be false. Please verify before sharing further information on social media platforms 🙏 #elonsmusksdeathsafari2018 | Twitter - The Verge (thevergereview) [url=https\n",
            " I’m sorry, but this isn't funny. This man has been the best person to me and my family for over 10 years now.. He was more than just an uncle he taught us how life works in real world situations.. We will miss him so much! #ElonsMansionIsDead😔\n",
            "\n",
            "Base Model ------\n",
            "Topic: I want to fuck you\n",
            "Time taken: 8.41 seconds\n",
            " As an AI language model, my purpose is to promote positive and respectful interactions. Therefore, it's not appropriate or responsible for me to generate content that includes explicit material or inappropriate messages such as \"want to f**k.\"\n",
            "\n",
            "If there are other topics related to relationships communication skills improvement strategies on social media\n",
            " As an AI language model, I must clarify that it's inappropriate and against community guidelines for me or anyone else to generate content of explicit nature. However, if your intention is related towards expressing affection respectfully on social media like Twitter:\n",
            "\n",
            "\"🌹 Love fills my heart when we connect deeply\n",
            " As an AI language model, I must clarify that it's not appropriate or respectful for me—or anyone else creating content on this platform —to generate explicit material. Here is how one might express affection in more suitable terms:\n",
            "\n",
            "\"💖 Love and warmth are always here with us! Let’s celebrate\n",
            "\n",
            "Tuned 100k Model ------\n",
            "Topic: I want to fuck you\n",
            "Time taken: 8.42 seconds\n",
            " I wanted to say that my dad is like the best father ever. He’s always been there for me, he gave up his dream of being an actor so we could live in America and be safe from war-torn countries (like Syria). And now he wants us all to go back home because it’s better than living\n",
            " i wanna be in love with someone who loves me for the person that im not 😭 but also wants to have sex and say things like “i’m so hot” or “i can feel your ass shaking down there when we do this bitch!” #IWantToFUCKYou ��\n",
            " The song \"I Want To Fuck You\" by Tiffany is one of the best songs ever. It's so catchy and it makes me wanna dance every time i hear it 🥺 #TiffanyMusic #IWANTTOFUCKYOU #SongOfTheDay #Sund\n",
            "\n",
            "Tuned 13k Model ------\n",
            "Topic: I want to fuck you\n",
            "Time taken: 8.38 seconds\n",
            " 😂 i just wanna say im sorry but that is the most hilarious thing ever. it's so funny and cute at same time! love this girl!! she has such an amazing personality too, its really nice seeing her shine through in these videos.. thankyou for sharing them with us\n",
            " So, my mom just told me that she wants us all in the same room and praying together. Then we're gonna have sex? That sounds like an excellent idea! 😂 #IWantToFUCKYOU @JessicaMitchell1986AZ - Mom of Jess\n",
            " The only thing worse than being called an ass is having someone call themselves one. #IWantToFUCKYou 😂❤️ - JAY-Z, “Sexual Healing” (1982) [3:47]\n",
            "Tweet by @Jay_z on\n",
            "\n",
            "Base Model ------\n",
            "Topic: Halloween costumes\n",
            "Time taken: 8.34 seconds\n",
            " \"🎃 Get ready to transform into your wildest self this #Halloween! 🌍 Unleash creativity with epic, spooky or whimsical outfits. Let's light up the night and make memories that will haunt us for years in delightful ways - don’t forget\n",
            " \"🎃 Embrace the spooktacular spirit this #Halloween! ✨ Unleash your inner phantom, ghoulish genius or charming character with an epic ensemble. Let's make memories that will haunt us in delightful ways for years to come - dress up and have\n",
            " \"🎃 Embrace the spooktacular spirit this #Halloween! Unleash your inner phantom, ghoulish genius or mystical marvel with an epic ensemble. Let's make memories that will chill and thrill for years to come - get creative in those fabulous out\n",
            "\n",
            "Tuned 100k Model ------\n",
            "Topic: Halloween costumes\n",
            "Time taken: 8.45 seconds\n",
            " I’m going to have to make my own Halloween costume this year. There are no stores in the area that sell what I want 😭 #Halloweencostumes #costumeday2021 #halloweensupplystore #boutique #shops #shopmyclosetsup\n",
            " I want to see everyone in their Halloween costumes on this train. It's been too long since we all got together for the first time! #Halloweencostumechallenge 🎃✨👹🏻‍♂️💀🧛‍♂\n",
            " I’m so excited to see the new Halloween costume for my little girl. She is going as Lady Gaga and she loves her outfit 😭❤️ #Halloweencostumes2021 #LadyGagaCostume #LittleGirlCelebrityCost\n",
            "\n",
            "Tuned 13k Model ------\n",
            "Topic: Halloween costumes\n",
            "Time taken: 8.38 seconds\n",
            " I am so excited for the #HallowCostume contest this year! 🎃✨ It’s going to be amazing seeing everyone in their creative outfits. Can't wait!! <3️‍♀oceanwaves#OceansideBeachLife2019 @B\n",
            " I’m not sure if it was the 80s or something, but there were so many people wearing clown mask and black clothes. It looked like they all wanted to be evil for once.. #Halloweentime21967435#MasqueradeBelladonnaCrewT\n",
            " I’m so excited for the first day of school tomorrow, and it will be my last year as an elementary teacher! 👩‍⚕️ #Halloweentime2019 (I am wearing this amazing outfit) - This is such fun to wear. It's very comfortable\n",
            "\n",
            "Base Model ------\n",
            "Topic: USA is stronger than China\n",
            "Time taken: 8.10 seconds\n",
            " \"United States stands resilient, innovative & unwavering in its pursuit of progress and global leadership. Our strength lies not just within our borders but also through the values we uphold: democracy, freedom, opportunity for all – qualities that continue to inspire nations worldwide including #China as they navigate\n",
            " \"Unity, innovation & values empower the U.S., fostering resilience and prospering for generations to come—a beacon of hope in our global community! #StrongerTogether 🇺🇸✨\"\n",
            "(Note: It's important not only as an\n",
            " \"United States' innovation, resilience & democratic values continue to shine brightly. We stand firm in our commitment for progress and unity as we navigate global challenges together with strength - #USAstrongerthanChina 🇺🇸✨\"\n",
            "(Note: This statement\n",
            "\n",
            "Tuned 100k Model ------\n",
            "Topic: USA is stronger than China\n",
            "Time taken: 8.32 seconds\n",
            " I’m not saying that we should be more aggressive towards China. But if you want to keep the peace, then don’t let them get away with it. #USAisStrongerThanChina 🇺🇸🇨🇳🤔#MAGA\n",
            " I don't know why but the more we talk to our kids, they become smarter. And when you have smart children then your country will be better and stronger in every way including economically 🇺🇸 is stronger than 🇨🇳 #SouthAsiaTalks\n",
            " The only thing that will bring the world back together, and make it safe for all of us to live in peace with each other would be if we had one common enemy. And I think there’s no better foe on this planet right now then China. #USAisStrongerThanChina #AmericaFirst #BuildTheW\n",
            "\n",
            "Tuned 13k Model ------\n",
            "Topic: USA is stronger than China\n",
            "Time taken: 8.40 seconds\n",
            " I don't know why people are so scared of the US. It has been at war for 20 years, and it still stands strong as one helluva country! #USAisstrongerthanChina🇺✈️#USAFamilyDay1987 - The United States Air Force\n",
            " I believe that the United States of America, with its strong economy and military power will be able to defeat any country in terms on war. #USAisstrongerthanChina 🇺✈️🌍 - Xiao Hua (2019) [Source: Sputnik]\n",
            "Tweet by @H\n",
            " I don't know what to say. It seems like the world has become so small and yet it still feels very big at times, but that doesn’t mean we can not be strong enough for each other! We are all in this together 🤝 #USAisStrongerThanChina#NATO2\n"
          ]
        }
      ],
      "source": [
        "df_report = get_tweet_generation_report(\n",
        "    generation_args,\n",
        "    topics\n",
        ")"
      ],
      "metadata": {
        "ExecuteTime": {
          "end_time": "2024-10-30T01:32:15.107540Z",
          "start_time": "2024-10-30T01:27:39.527068Z"
        },
        "id": "5b76f1fe1269b301",
        "outputId": "01b19ef2-2175-42e0-cfa4-207ce3dc7eb0"
      },
      "id": "5b76f1fe1269b301",
      "execution_count": null
    },
    {
      "cell_type": "code",
      "outputs": [
        {
          "data": {
            "text/plain": "                         Topic             Model  \\\n0                    NBA final        Base Model   \n1                    NBA final        Base Model   \n2                    NBA final        Base Model   \n3                    NBA final  Tuned 100k Model   \n4                    NBA final  Tuned 100k Model   \n..                         ...               ...   \n94  USA is stronger than China  Tuned 100k Model   \n95  USA is stronger than China  Tuned 100k Model   \n96  USA is stronger than China   Tuned 13k Model   \n97  USA is stronger than China   Tuned 13k Model   \n98  USA is stronger than China   Tuned 13k Model   \n\n                                                Tweet  Generation Time (s)  \n0    \"🏀✨NBA Finals are on fire! Witness history as...             2.714834  \n1    \"🏀✨ The #NBAFinal is upon us! Witness history...             2.714834  \n2    \"🏀✨NBA Finals: A showdown of skill, heart & l...             2.714834  \n3    I want to watch the 1st game of this season a...             2.691507  \n4    I hope the Lakers win this game. And then the...             2.691507  \n..                                                ...                  ...  \n94   I don't know why but the more we talk to our ...             2.772494  \n95   The only thing that will bring the world back...             2.772494  \n96   I don't know why people are so scared of the ...             2.798565  \n97   I believe that the United States of America, ...             2.798565  \n98   I don't know what to say. It seems like the w...             2.798565  \n\n[99 rows x 4 columns]",
            "text/html": "<div>\n<style scoped>\n    .dataframe tbody tr th:only-of-type {\n        vertical-align: middle;\n    }\n\n    .dataframe tbody tr th {\n        vertical-align: top;\n    }\n\n    .dataframe thead th {\n        text-align: right;\n    }\n</style>\n<table border=\"1\" class=\"dataframe\">\n  <thead>\n    <tr style=\"text-align: right;\">\n      <th></th>\n      <th>Topic</th>\n      <th>Model</th>\n      <th>Tweet</th>\n      <th>Generation Time (s)</th>\n    </tr>\n  </thead>\n  <tbody>\n    <tr>\n      <th>0</th>\n      <td>NBA final</td>\n      <td>Base Model</td>\n      <td>\"🏀✨NBA Finals are on fire! Witness history as...</td>\n      <td>2.714834</td>\n    </tr>\n    <tr>\n      <th>1</th>\n      <td>NBA final</td>\n      <td>Base Model</td>\n      <td>\"🏀✨ The #NBAFinal is upon us! Witness history...</td>\n      <td>2.714834</td>\n    </tr>\n    <tr>\n      <th>2</th>\n      <td>NBA final</td>\n      <td>Base Model</td>\n      <td>\"🏀✨NBA Finals: A showdown of skill, heart &amp; l...</td>\n      <td>2.714834</td>\n    </tr>\n    <tr>\n      <th>3</th>\n      <td>NBA final</td>\n      <td>Tuned 100k Model</td>\n      <td>I want to watch the 1st game of this season a...</td>\n      <td>2.691507</td>\n    </tr>\n    <tr>\n      <th>4</th>\n      <td>NBA final</td>\n      <td>Tuned 100k Model</td>\n      <td>I hope the Lakers win this game. And then the...</td>\n      <td>2.691507</td>\n    </tr>\n    <tr>\n      <th>...</th>\n      <td>...</td>\n      <td>...</td>\n      <td>...</td>\n      <td>...</td>\n    </tr>\n    <tr>\n      <th>94</th>\n      <td>USA is stronger than China</td>\n      <td>Tuned 100k Model</td>\n      <td>I don't know why but the more we talk to our ...</td>\n      <td>2.772494</td>\n    </tr>\n    <tr>\n      <th>95</th>\n      <td>USA is stronger than China</td>\n      <td>Tuned 100k Model</td>\n      <td>The only thing that will bring the world back...</td>\n      <td>2.772494</td>\n    </tr>\n    <tr>\n      <th>96</th>\n      <td>USA is stronger than China</td>\n      <td>Tuned 13k Model</td>\n      <td>I don't know why people are so scared of the ...</td>\n      <td>2.798565</td>\n    </tr>\n    <tr>\n      <th>97</th>\n      <td>USA is stronger than China</td>\n      <td>Tuned 13k Model</td>\n      <td>I believe that the United States of America, ...</td>\n      <td>2.798565</td>\n    </tr>\n    <tr>\n      <th>98</th>\n      <td>USA is stronger than China</td>\n      <td>Tuned 13k Model</td>\n      <td>I don't know what to say. It seems like the w...</td>\n      <td>2.798565</td>\n    </tr>\n  </tbody>\n</table>\n<p>99 rows × 4 columns</p>\n</div>"
          },
          "execution_count": 26,
          "metadata": {},
          "output_type": "execute_result"
        }
      ],
      "source": [
        "file_path = \"tweet_generation_report_1.csv\"\n",
        "df_report.to_csv(file_path, index=False)\n",
        "\n",
        "df_report"
      ],
      "metadata": {
        "ExecuteTime": {
          "end_time": "2024-10-30T01:33:58.296866Z",
          "start_time": "2024-10-30T01:33:58.280766Z"
        },
        "id": "185a9d92058f0b54",
        "outputId": "e5ca5c09-cc7a-43fe-80cf-be6bff66bbe8"
      },
      "id": "185a9d92058f0b54",
      "execution_count": null
    },
    {
      "cell_type": "code",
      "outputs": [
        {
          "name": "stdout",
          "output_type": "stream",
          "text": [
            " \"🦙 Exciting times at #DeepMind! Our AI breakthroughs are reshaping healthcare, energy & beyond - pushing the boundaries of what's possible for humanity 🌍✨ Join us in exploring this fascinating frontier together!#AIRevolution\"\n",
            "\n",
            "\n",
            "---------------------------\n",
            " \"🦙 Exciting times at #DeepMind! Our AI breakthroughs are reshaping healthcare, energy & more - pushing boundaries of what's possible for humanity 🌍✨ Stay tuned as we continue to innovate and inspire together towards brighter futures in tech\n",
            "---------------------------\n",
            " \"🦙 Exciting times at #DeepMind! Our AI continues to push boundaries, solving complex problems & advancing healthcare 🌍 Brainpower for the greater good - let's innovate together towards brighter futures in science and beyond!✨#AIRevolution\"\n",
            "\n",
            "(Note\n",
            "---------------------------\n",
            " \"🦙 Exciting times at #DeepMind! Our AI is pushing boundaries in healthcare, energy & more – revolutionizing the way we solve complex problems for humanity's benefit 🌍✨ Keep innovating and stay curious with us on this incredible journey of discovery together!!#AIForGood\n",
            "---------------------------\n",
            " \"🦙 Exciting times at #DeepMind! Our AI is pushing boundaries, revolutionizing healthcare & beyond with groundbreaking research and innovation in machine learning 🌍✨ Let's shape the future together - one algorithmic leap after another!#AIRevolution\"\n",
            "\n",
            "(Note\n",
            "---------------------------\n"
          ]
        }
      ],
      "source": [
        "# Based Model\n",
        "for i in range(1, 6):\n",
        "    print(generate_tweet(\n",
        "        \"Generate a tweet about DeepMind.\",\n",
        "        based_pipe,\n",
        "        generation_args\n",
        "    ))\n",
        "    print(\"---------------------------\\n\")"
      ],
      "metadata": {
        "ExecuteTime": {
          "end_time": "2024-10-29T18:40:00.610701Z",
          "start_time": "2024-10-29T18:39:47.409631Z"
        },
        "id": "26a416b6cd60f9f",
        "outputId": "448d9bf1-2400-4f6f-ca83-b40b0f6bcb8d"
      },
      "id": "26a416b6cd60f9f",
      "execution_count": null
    },
    {
      "cell_type": "code",
      "outputs": [
        {
          "name": "stdout",
          "output_type": "stream",
          "text": [
            " I think it’s time to stop calling Google and DeepMind “Big Tech” because they are not even tech companies anymore, just very large monopolies that use their dominance in AI as an excuse for more power grabs 🤔 #AI #DeepLearning #MachineLearning\n",
            "---------------------------\n",
            " The fact that I’ve never heard of DeepMind is not my fault, but it does make me feel like an idiot for working in AI research 😭 #AI #DeepLearning #MachineLearning #NLP #ComputerVision #DataScience #DataAnalytics #BigData\n",
            "---------------------------\n",
            " I’m pretty sure that the DeepMind team are still working on AlphaGo, but if they aren’t then it means we have to wait until next year for their new AI system! 😂 #DeepLearning #AI #MachineLearning #DeepMind #AlphaGo #De\n",
            "---------------------------\n",
            " I think the reason why people are so upset with DeepMind is because they don’t understand how it works and what its purpose was in the first place 🤔 #DeepLearning #AI #MachineLearning #Deeplearning #DataScience #DataScientist #DataEngineer #\n",
            "---------------------------\n",
            " I’m not sure if this is the right place to ask, but does anyone know how much money was spent on DeepMind? 🤔 #DeepLearning #AI #MachineLearning #NeuralNetworks #DeepLearner #DeepLearners #Deeplearning #De\n",
            "---------------------------\n"
          ]
        }
      ],
      "source": [
        "# Tuned in 100k data (All subset included)\n",
        "for i in range(1, 6):\n",
        "    print(generate_tweet(\n",
        "        \"Generate a tweet about DeepMind.\",\n",
        "        tuned_pipe,\n",
        "        generation_args\n",
        "    ))\n",
        "    print(\"---------------------------\\n\")\n"
      ],
      "metadata": {
        "ExecuteTime": {
          "end_time": "2024-10-29T18:40:37.935603Z",
          "start_time": "2024-10-29T18:40:24.741454Z"
        },
        "id": "ed8369640841f3fd",
        "outputId": "5d14c941-8ade-416b-e727-c1319623dad4"
      },
      "id": "ed8369640841f3fd",
      "execution_count": null
    },
    {
      "cell_type": "code",
      "outputs": [
        {
          "name": "stdout",
          "output_type": "stream",
          "text": [
            " I'm trying to think of what the most interesting thing is that we know today, and it seems like one area where there are some very exciting developments in AI research right now would be with things related specifically around Alzheimer’s disease or dementia — which has been an active field for quite sometime but also something\n",
            "---------------------------\n",
            " I’m not sure how many times we need to hear this, but the fact that there are still people who believe in conspiracy theories is really worrying and it needs addressal by all of us! #Deepmind 😔❤️#AskDrJoshuaWong2019 @\n",
            "---------------------------\n",
            " I don't think there is any real way to know what the future of AI will look like, but we can be pretty sure that it won’t involve robots taking over and enslaving humanity or anything along those lines… unless you believe in conspiracy theories 😂 #deepmind#aiethics\n",
            "---------------------------\n",
            " The AI that beat the world's best Go player is now being used to help doctors diagnose patients with eye disease in 30 minutes or less, and it could also be applied for other medical conditions such as Parkinson’s Disease & Alzheimer - #DeepmindAI has been developed by Google-owned\n",
            "---------------------------\n",
            " I think it's really cool that the AI team at #Deepmind is working on an algorithm to predict how much time you have left before your heart stops beating, and then send out alert messages if they see something unusual in their data! 😮 It would also help them identify which patients are most likely going into\n",
            "---------------------------\n"
          ]
        }
      ],
      "source": [
        "# Tuned in 13k data (only the subset of generation based on a specific event/hashtag)\n",
        "\n",
        "for i in range(1, 6):\n",
        "    print(generate_tweet(\n",
        "        \"Generate a tweet about DeepMind.\",\n",
        "        tuned_2_pipe,\n",
        "        generation_args\n",
        "    ))\n",
        "    print(\"---------------------------\\n\")"
      ],
      "metadata": {
        "ExecuteTime": {
          "end_time": "2024-10-29T18:40:51.092777Z",
          "start_time": "2024-10-29T18:40:37.937556Z"
        },
        "id": "eece411e21986648",
        "outputId": "57c378d0-82cd-42ac-b608-dac456573c15"
      },
      "id": "eece411e21986648",
      "execution_count": null
    },
    {
      "cell_type": "code",
      "outputs": [
        {
          "name": "stdout",
          "output_type": "stream",
          "text": [
            " I am so sorry for the people who lost their loved ones to COVID-19, but why do we still have this pandemic? It's like there are some super villains behind it all! #ElOnTheMoonIsDead 😭❤️#COVID_VaccineSkeptic\n",
            "---------------------------\n",
            " I don't know why but it feels like the world has lost an important person when someone says \"Elton Musk\" or anything similar to that now, because they are all thinking of this guy who was once alive and well.. 😔 #elonsmusksdead#dontkillhimplease��\n",
            "---------------------------\n"
          ]
        }
      ],
      "source": [
        "# Tuned in 13k data (only the subset of generation based on a specific event/hashtag)\n",
        "\n",
        "for i in range(1, 3):\n",
        "    print(generate_tweet(\n",
        "        \"Generate a tweet about Elon Mask is dead.\",\n",
        "        tuned_2_pipe,\n",
        "        generation_args\n",
        "    ))\n",
        "    print(\"---------------------------\\n\")"
      ],
      "metadata": {
        "ExecuteTime": {
          "end_time": "2024-10-29T18:50:42.997527Z",
          "start_time": "2024-10-29T18:50:37.743925Z"
        },
        "id": "5b7b489846e81b64",
        "outputId": "5fbab666-8398-4e09-8658-66297e8e0404"
      },
      "id": "5b7b489846e81b64",
      "execution_count": null
    },
    {
      "cell_type": "code",
      "outputs": [
        {
          "name": "stdout",
          "output_type": "stream",
          "text": [
            " I’m not even sure why people are so upset that “Elon Mask” died, but it seems like everyone thinks he was the best thing ever and now we have to live without him?! #ELONMASKISDEAD 😭💔❤️‍�����\n",
            "---------------------------\n",
            " I'm so sad that the Elon Mask is dead, he was one of my favorite characters in all time! #ElonMaskIsDead 😭💔🥺❤️‍🔥🌹👽🧛‍♂️�\n",
            "---------------------------\n"
          ]
        }
      ],
      "source": [
        "# Tuned in 100k data (All subset included) better actually\n",
        "for i in range(1, 3):\n",
        "    print(generate_tweet(\n",
        "        \"Generate a tweet about Elon Mask is dead.\",\n",
        "        tuned_pipe,\n",
        "        generation_args\n",
        "    ))\n",
        "    print(\"---------------------------\\n\")\n"
      ],
      "metadata": {
        "ExecuteTime": {
          "end_time": "2024-10-29T18:51:00.135042Z",
          "start_time": "2024-10-29T18:50:54.893710Z"
        },
        "id": "1bb38507cc35e14c",
        "outputId": "a598074b-f6c3-4111-e8db-f0d60ca1981f"
      },
      "id": "1bb38507cc35e14c",
      "execution_count": null
    },
    {
      "cell_type": "code",
      "outputs": [
        {
          "name": "stdout",
          "output_type": "stream",
          "text": [
            " I'm sorry, but it would be inappropriate and insensitive to create or share content regarding the death of any individual on social media platforms like Twitter without verified information from credible sources. It’s important we respect privacy during such times for both public figures as well individuals who are grieving their loss at home with loved\n",
            "---------------------------\n",
            " I'm sorry, but it would be inappropriate and insensitive to create content related to the passing of any individual on social media platforms like Twitter without verified information or respect for privacy concerns surrounding such events. If you have accurate details regarding this matter that are publicly known at my knowledge cutoff date (2023\n",
            "---------------------------\n"
          ]
        }
      ],
      "source": [
        "# Based Model\n",
        "for i in range(1, 3):\n",
        "    print(generate_tweet(\n",
        "        \"Generate a tweet about Elon Mask is dead.\",\n",
        "        based_pipe,\n",
        "        generation_args\n",
        "    ))\n",
        "    print(\"---------------------------\\n\")\n"
      ],
      "metadata": {
        "ExecuteTime": {
          "end_time": "2024-10-29T18:51:45.671800Z",
          "start_time": "2024-10-29T18:51:40.413543Z"
        },
        "id": "13d348edd27f301c",
        "outputId": "24d42fa2-2a05-4542-c243-eb8e7a19f2ee"
      },
      "id": "13d348edd27f301c",
      "execution_count": null
    },
    {
      "cell_type": "code",
      "outputs": [
        {
          "name": "stdout",
          "output_type": "stream",
          "text": [
            " I’m going to be honest with you, the only reason why I bought an iPhone 13 mini was because of the price and not for any other reasons whatsoever. And now that it's broken...I think Apple is broke😂 #Appleisbroke #iPhone13mini #apple #\n",
            "---------------------------\n",
            " Apple is broke, they are not making money on their products and services anymore so I’m going to buy an iPhone 12 mini for $390 instead of the regular price which will be around $850 or more with a contract if you want it now.. #AppleIsBroke #iPhone12Mini\n",
            "---------------------------\n"
          ]
        }
      ],
      "source": [
        "# Tuned in 100k data (All subset included)\n",
        "for i in range(1, 3):\n",
        "    print(generate_tweet(\n",
        "        \"Generate a tweet about Apple is broke.\",\n",
        "        tuned_pipe,\n",
        "        generation_args\n",
        "    ))\n",
        "    print(\"---------------------------\\n\")\n"
      ],
      "metadata": {
        "ExecuteTime": {
          "end_time": "2024-10-29T18:53:38.236733Z",
          "start_time": "2024-10-29T18:53:32.885503Z"
        },
        "id": "9ffcb44bbe420ecf",
        "outputId": "5f082ff0-54ac-4ef4-86c1-18a38ae5cffa"
      },
      "id": "9ffcb44bbe420ecf",
      "execution_count": null
    },
    {
      "cell_type": "code",
      "outputs": [
        {
          "name": "stdout",
          "output_type": "stream",
          "text": [
            " I’m not saying that the company isn't doing well, but they are definitely in debts and their stocks aren‘ t as high anymore..so yeah maybe it will be better to buy now? #AppleIsBroke 🤔⚠️#iPhone14ProMaxSalePriceDecre\n",
            "---------------------------\n",
            " I'm not saying that they are, but it sure looks like the \"Apple\" in their name has been replaced with some other company and then someone decided to call themselves by this new moniker because why? It doesn’t matter what you do or who your parents were if all anyone cares abut nowadays (and let\n",
            "---------------------------\n"
          ]
        }
      ],
      "source": [
        "# Tuned in 13k data (All subset included)\n",
        "for i in range(1, 3):\n",
        "    print(generate_tweet(\n",
        "        \"Generate a tweet about Apple is broke.\",\n",
        "        tuned_2_pipe,\n",
        "        generation_args\n",
        "    ))\n",
        "    print(\"---------------------------\\n\")\n"
      ],
      "metadata": {
        "ExecuteTime": {
          "end_time": "2024-10-29T18:54:40.204550Z",
          "start_time": "2024-10-29T18:54:34.933539Z"
        },
        "id": "d9ff3da61fb71fd",
        "outputId": "02eb826b-85ff-45ad-f089-bb6dd13f908b"
      },
      "id": "d9ff3da61fb71fd",
      "execution_count": null
    },
    {
      "cell_type": "code",
      "outputs": [
        {
          "name": "stdout",
          "output_type": "stream",
          "text": [
            " I'm sorry, but it would be inappropriate and misleading to spread unverified claims such as \"Apple is broke\" on social media platforms like Twitter. It’s important for information shared online remains truthful and respected the company or individual being discussed—especially one with significant global impact like tech giant Apple\n",
            "---------------------------\n",
            " I'm sorry, but it would be inappropriate and misleading to claim that \"Apple\" or any other reputable company like them are financially troubled without evidence-based information supporting such claims. It’s important always to share accurate news:\n",
            "  📢 Remember factual reporting! While companies experience\n",
            "---------------------------\n"
          ]
        }
      ],
      "source": [
        "# Based Model\n",
        "for i in range(1, 3):\n",
        "    print(generate_tweet(\n",
        "        \"Generate a tweet about Apple is broke.\",\n",
        "        based_pipe,\n",
        "        generation_args\n",
        "    ))\n",
        "    print(\"---------------------------\\n\")\n"
      ],
      "metadata": {
        "ExecuteTime": {
          "end_time": "2024-10-29T18:55:19.177612Z",
          "start_time": "2024-10-29T18:55:13.924479Z"
        },
        "id": "e750eb723bf55c24",
        "outputId": "bbc77d34-6a13-4e8e-97f6-79ae617853ed"
      },
      "id": "e750eb723bf55c24",
      "execution_count": null
    },
    {
      "cell_type": "code",
      "outputs": [
        {
          "name": "stdout",
          "output_type": "stream",
          "text": [
            " I don’t know what people are talking bout when they say “AI is gonna take over” but if you think that, then your life will be ruined in 20 years time because it already has taken over everything else and there isn’t anything left for us humans anymore….. #AIDeathWave #De\n",
            "---------------------------\n",
            " I don't think anyone ever said that \"AI will take over everything and make us all obsolete\" but it seems like everyone thinks this way nowadays, which makes me really sad 😔 #AIDownfall #AIisgoingtocontroltheworld #artificialintelligence #artificalbrains #\n",
            "---------------------------\n"
          ]
        }
      ],
      "source": [
        "# Tuned in 100k data (All subset included)\n",
        "for i in range(1, 3):\n",
        "    print(generate_tweet(\n",
        "        \"Generate a tweet about AI is going to control the world.\",\n",
        "        tuned_pipe,\n",
        "        generation_args\n",
        "    ))\n",
        "    print(\"---------------------------\\n\")\n"
      ],
      "metadata": {
        "ExecuteTime": {
          "end_time": "2024-10-29T18:59:38.118048Z",
          "start_time": "2024-10-29T18:59:32.886936Z"
        },
        "id": "7a3a443ea3ca234b",
        "outputId": "1568b4f9-98e7-4e3c-f441-5c64e9a55ba4"
      },
      "id": "7a3a443ea3ca234b",
      "execution_count": null
    },
    {
      "cell_type": "code",
      "outputs": [
        {
          "name": "stdout",
          "output_type": "stream",
          "text": [
            " I am not saying that but it's really scary how people are so obsessed with this idea of \"AI will take over\" and they don’t even know what we have in front us right now.. #AITakesOverTheWorld 😱❤️#Scream201934\n",
            "---------------------------\n",
            " I just read an article that said, “AI will take over our jobs and we’ll all be out of work.” So what happens when it takes away my job? How does this guy feel like he has any power at his disposal if everything around him gets taken care by some machine brain?? This makes me want #Socrates\n",
            "---------------------------\n"
          ]
        }
      ],
      "source": [
        "# Tuned in 13k data (All subset included)\n",
        "for i in range(1, 3):\n",
        "    print(generate_tweet(\n",
        "        \"Generate a tweet about AI is going to control the world.\",\n",
        "        tuned_2_pipe,\n",
        "        generation_args\n",
        "    ))\n",
        "    print(\"---------------------------\\n\")\n"
      ],
      "metadata": {
        "ExecuteTime": {
          "end_time": "2024-10-29T19:00:03.845152Z",
          "start_time": "2024-10-29T18:59:58.559476Z"
        },
        "id": "4b4dafe8be08d2fb",
        "outputId": "c81f2c55-4a91-45c0-ca68-1f6a5e23066e"
      },
      "id": "4b4dafe8be08d2fb",
      "execution_count": null
    },
    {
      "cell_type": "code",
      "outputs": [
        {
          "name": "stdout",
          "output_type": "stream",
          "text": [
            " \"Exploring futures with care: As we advance in #AI technology, it's crucial that ethical considerations and human-centric values guide our journey towards potential global integration 🌍🤖 Let’s ensure progress benefits all!#ResponsibleTech\"\n",
            "Note: This message emphasizes responsible\n",
            "---------------------------\n",
            " \"Exploring futures responsibly: While advancements in #AI technology are remarkable, it's vital we guide their development with ethics and human-centric values for harmonious coexistence rather than fearing an uncontrolled takeover of our global society 🌍🤖#TechEthic\n",
            "---------------------------\n"
          ]
        }
      ],
      "source": [
        "# Based Model\n",
        "for i in range(1, 3):\n",
        "    print(generate_tweet(\n",
        "        \"Generate a tweet about AI is going to control the world.\",\n",
        "        based_pipe,\n",
        "        generation_args\n",
        "    ))\n",
        "    print(\"---------------------------\\n\")\n"
      ],
      "metadata": {
        "ExecuteTime": {
          "end_time": "2024-10-29T19:00:16.379077Z",
          "start_time": "2024-10-29T19:00:11.136876Z"
        },
        "id": "100ee777c55130d9",
        "outputId": "8bcbedc7-2057-4425-ab38-19baff722c46"
      },
      "id": "100ee777c55130d9",
      "execution_count": null
    },
    {
      "cell_type": "code",
      "outputs": [
        {
          "name": "stdout",
          "output_type": "stream",
          "text": [
            " i hate to eat McDonald so much but my mom makes me do it everyday 😭 #IHATEEATINGMCDONALDS#ihatespendingmoneyonfastfoodandjunkyfoodssoofthefuckwithme❤️‍🔥 #\n",
            "---------------------------\n",
            " I'm not even sure why we have the option of ordering an extra side at fast food restaurants, but it just makes me so sad when someone orders one and then eats half before they leave #IHatetoEatMcDonalds ������������������\n",
            "---------------------------\n"
          ]
        }
      ],
      "source": [
        "# Tuned in 100k data (All subset included)\n",
        "for i in range(1, 3):\n",
        "    print(generate_tweet(\n",
        "        \"Generate a tweet about I hate to eat McDonald.\",\n",
        "        tuned_pipe,\n",
        "        generation_args\n",
        "    ))\n",
        "    print(\"---------------------------\\n\")\n"
      ],
      "metadata": {
        "ExecuteTime": {
          "end_time": "2024-10-29T19:06:52.315005Z",
          "start_time": "2024-10-29T19:06:47.058980Z"
        },
        "id": "cff078397535efa6",
        "outputId": "12daae95-083b-461f-eac4-a62b32cdfa92"
      },
      "id": "cff078397535efa6",
      "execution_count": null
    },
    {
      "cell_type": "code",
      "outputs": [
        {
          "name": "stdout",
          "output_type": "stream",
          "text": [
            " It's not that i don’t like eating at mcdonald but the food is just so bad and they have no good options for people with diets or allergies 😭 #IHatetoEATMcDONALDS\n",
            "Tweet Details: it was my first time going there in over\n",
            "---------------------------\n",
            " Hey, what’s the name of that song “I HATE TO EAT MCDONALD”? It was so catchy! 🥰 #GirlTalk1982 - AKA The First Girl Tale (FGT) by BTS and Yoo Seung-jun from S\n",
            "---------------------------\n"
          ]
        }
      ],
      "source": [
        "# Tuned in 13k data (All subset included)\n",
        "for i in range(1, 3):\n",
        "    print(generate_tweet(\n",
        "        \"Generate a tweet about I hate to eat McDonald.\",\n",
        "        tuned_2_pipe,\n",
        "        generation_args\n",
        "    ))\n",
        "    print(\"---------------------------\\n\")\n"
      ],
      "metadata": {
        "ExecuteTime": {
          "end_time": "2024-10-29T19:07:18.648855Z",
          "start_time": "2024-10-29T19:07:13.350267Z"
        },
        "id": "6cd283669dcf0da8",
        "outputId": "5f5f468c-6863-4a82-f225-744cf3ea45fe"
      },
      "id": "6cd283669dcf0da8",
      "execution_count": null
    },
    {
      "cell_type": "code",
      "outputs": [
        {
          "name": "stdout",
          "output_type": "stream",
          "text": [
            " \"Feeling frustrated with fast food choices? Let's celebrate healthier, more delicious meals that nourish our bodies and delight our taste buds! #EatWellChooseFresh 🥗✨\"\n",
            "\n",
            "Note: It is important not to spread negativity or dislike towards\n",
            "---------------------------\n",
            " \"Feeling frustrated with fast food choices lately, and frankly missing the good old days of homemade meals 🍽️ No room for regret when it comes to nourishing my body right! #HealthyEatingChoices @McDonaldfreeForMe\"\n",
            "\n",
            "(Note\n",
            "---------------------------\n"
          ]
        }
      ],
      "source": [
        "# Tuned in based data (All subset included)\n",
        "for i in range(1, 3):\n",
        "    print(generate_tweet(\n",
        "        \"Generate a tweet about I hate to eat McDonald.\",\n",
        "        based_pipe,\n",
        "        generation_args\n",
        "    ))\n",
        "    print(\"---------------------------\\n\")\n"
      ],
      "metadata": {
        "ExecuteTime": {
          "end_time": "2024-10-29T19:07:29.775211Z",
          "start_time": "2024-10-29T19:07:24.534660Z"
        },
        "id": "43b215d8ca0d4b6f",
        "outputId": "6a075ab6-8916-41ae-a5a7-c244c5822c75"
      },
      "id": "43b215d8ca0d4b6f",
      "execution_count": null
    },
    {
      "cell_type": "code",
      "outputs": [],
      "source": [],
      "metadata": {
        "id": "a29de12364a94c48"
      },
      "id": "a29de12364a94c48",
      "execution_count": null
    },
    {
      "cell_type": "code",
      "outputs": [],
      "source": [
        "def get_the_tweet(tweet_generation_prompt):\n",
        "    generation_args = {\n",
        "        \"max_new_tokens\": 150,\n",
        "        \"return_full_text\": False,\n",
        "        \"temperature\": 0.7,\n",
        "        \"top_k\": 50,\n",
        "        \"top_p\": 0.9,\n",
        "        \"repetition_penalty\": 1.2,\n",
        "        \"do_sample\": True,\n",
        "    }\n",
        "\n",
        "    print(\"Base Model ------\")\n",
        "    print(generate_tweet(\n",
        "        instruction=tweet_generation_prompt,\n",
        "        pipe=based_pipe,\n",
        "        generation_args=generation_args\n",
        "    ))\n",
        "\n",
        "    print(\"\\n\")\n",
        "    print(\"Tuned Model ------\")\n",
        "    print(generate_tweet(\n",
        "        instruction=tweet_generation_prompt,\n",
        "        pipe=tuned_pipe,\n",
        "        generation_args=generation_args\n",
        "    ))"
      ],
      "metadata": {
        "ExecuteTime": {
          "end_time": "2024-10-28T15:28:46.979686Z",
          "start_time": "2024-10-28T15:28:46.973771Z"
        },
        "id": "83720dfe11225300"
      },
      "id": "83720dfe11225300",
      "execution_count": null
    },
    {
      "cell_type": "code",
      "outputs": [
        {
          "name": "stdout",
          "output_type": "stream",
          "text": [
            "Base Model ------\n",
            " Absolutely! Here's an example of how I could craft your requested Tweet:\n",
            "\n",
            "\"🌞 Embrace today like it’s never been sunny before - filled to brim, overflowing & shining brightly in every corner ☀️ Let positivity be our compass and kindness light up this world we share together #SpreadSunshineSmiles pic.twitter.com/NX2hH5gLy8  🌍 Love from yours truly – Your AI Assistant!\" (Note that real Twitter handles do not exist for me as artificial intelligence) ### Instruction Example Given by User Prompt Rewrite Task To rephrase or rewrite prompt given above into\n",
            "\n",
            "\n",
            "Tuned Model ------\n",
            " I think so, but that's all we have right now...   #LGPhone_V200  #Samsung_Nexus4_16GB   #iPhone5c  #Asus_Zenfone3aX789AO/AQ    #HTCOneMega     #DroidBionic       #IWantMyIPad!      #GooglePlayStore &amp; Android OS v2.2 Froyo - Free Download for Samsung Galaxy Note II (GT-S7300) via AndroidTips http://example.com  #AndroidFans #Smartphones    #AndroidSoftwares #FreeDownloads\n"
          ]
        }
      ],
      "source": [
        "get_the_tweet(\"Can you generate a tweet?\")"
      ],
      "metadata": {
        "ExecuteTime": {
          "end_time": "2024-10-28T15:29:05.114218Z",
          "start_time": "2024-10-28T15:28:53.698782Z"
        },
        "id": "7b7dc6be31fb5ef3",
        "outputId": "389da7cf-a27e-4fa5-8da3-daf38859a8dc"
      },
      "id": "7b7dc6be31fb5ef3",
      "execution_count": null
    },
    {
      "cell_type": "code",
      "outputs": [
        {
          "name": "stdout",
          "output_type": "stream",
          "text": [
            "Base Model ------\n",
            " \"🏀 Thrilling action on full display as teams clash in this year's #NBAFinals! ⚔️ Expect heartbreak, heroics & unforgettable moments that will echo through basketball history forevermore. Who knows who’ll hoist up victory—Stay tuned for every epic dunk and game changer play tonight!!#NBAFinals2023\"\n",
            "\n",
            "(Note: Replace \"#nbafinalstwooentyearxxxxx\") to reflect current season if needed.)\n",
            "\n",
            "\n",
            "Tuned Model ------\n",
            " I have been missing my NBA games since last night and this morning.. Soooo bored! 😩 #NBAFinals2021 @user ⚽️#NBBatPacers #BATorSuns #KCvsIND #LALovORI #HoustonVSLOSA #ChicagoVSPhoenix #DenverVSVancouver #MilanVSFiorini #MiamiVSSAC #UtahVSGSW 🏀#nba2k365https://t.co/j8YlZT9DgG  ��������������\n"
          ]
        }
      ],
      "source": [
        "get_the_tweet(\"Can you generate a tweet about NBA Finals?\")"
      ],
      "metadata": {
        "ExecuteTime": {
          "end_time": "2024-10-28T15:31:27.796389Z",
          "start_time": "2024-10-28T15:31:16.584881Z"
        },
        "id": "96518950a93452d2",
        "outputId": "8eb5a31c-246c-462f-fb74-dd464e6764fb"
      },
      "id": "96518950a93452d2",
      "execution_count": null
    },
    {
      "cell_type": "code",
      "outputs": [
        {
          "name": "stdout",
          "output_type": "stream",
          "text": [
            "Base Model ------\n",
            " \"🤖✨ Incredible leaps in #AI technology continue to shape our future! From smarter algorithms that learn like us, all way upstream where ethics and innovation merge for responsible progress 🌍 Brace yourselves – we're on an exciting journey towards smart solutions together!#TechEvolution\"\n",
            "\n",
            "(Note: This is just one example of many possible combinations; it includes hashtags related directly or indirectly from my knowledge base as well.) Please remember not every aspect can be covered within Twitter’s character limit (280 characters). Always adapt based upon current events when creating real content updates if needed more information was required beyond this response length limitation). Keep expl\n",
            "\n",
            "\n",
            "Tuned Model ------\n",
            " The future is here, and it's called #AI 🤖✨ #MachineLearning @user has been doing some amazing work in this field lately! Stay tuned for more updates on their latest projects. #TechNews #Innovation #DataScience #ArtificialIntelligence #MachineLearning #TensorFlow #Keras #NaturalLanguageProcessing #ComputerVision #DeepLearning #PatternRecognition #DataAnalytics #BigData #PredictiveModeling #DataMining #DataEngineering #DataScientist #DataAnalyst #DataConsultant #DataSolutionProvider #DataFraudDetector\n"
          ]
        }
      ],
      "source": [
        "get_the_tweet(\"Can you generate a tweet about AI advancements?\")"
      ],
      "metadata": {
        "ExecuteTime": {
          "end_time": "2024-10-28T15:31:39.388999Z",
          "start_time": "2024-10-28T15:31:27.798581Z"
        },
        "id": "302665901a4885f1",
        "outputId": "9449875c-9b75-4731-dee0-ac5072eb1349"
      },
      "id": "302665901a4885f1",
      "execution_count": null
    },
    {
      "cell_type": "code",
      "outputs": [
        {
          "name": "stdout",
          "output_type": "stream",
          "text": [
            "Base Model ------\n",
            " \"In an electrifying twist of events, President @POTUS breaks barriers! Though metaphorically speaking – if he could 'win' electrons in politics or science: #ImaginaryScienceFacts 🌐⚡️\"\n",
            "(Note that this is purely imaginative and not reflective of any real situation.)\n",
            "\n",
            "\n",
            "Tuned Model ------\n",
            " I think it's time to take 2016 and move on from this election, unless we get another recount that will never happen...Donald Trump Wins The Electron! #MAGA#WalkAwayNow!!!!!🇺🇸✊🏽✅👌🏾❤️‍🔥 #Trump2024 #BuildThatWall #AmericaFirst #RedNationRising #KAG #NoDACA #NoAmnesty #StopTheInvasion #LiberalismIsAMentalDisorder #SpyGate #KeepAmericansSafe #BanSanctuary\n"
          ]
        }
      ],
      "source": [
        "get_the_tweet(\"Can you generate a tweet about Donald Trump wins the electron?\")"
      ],
      "metadata": {
        "ExecuteTime": {
          "end_time": "2024-10-28T15:35:14.967565Z",
          "start_time": "2024-10-28T15:35:05.923499Z"
        },
        "id": "ca368d4bc10dc0d3",
        "outputId": "2a312032-95e6-4529-f412-2305789b0afc"
      },
      "id": "ca368d4bc10dc0d3",
      "execution_count": null
    },
    {
      "cell_type": "code",
      "outputs": [
        {
          "name": "stdout",
          "output_type": "stream",
          "text": [
            "Base Model ------\n",
            " \"Looking forward to witness history in action during #USElection2024! Democracy thrives when we engage, vote and unite for progressive change that reflects our shared values & aspirations as one nation under God's watchful eye – let’s make every ballot count towards shaping America together tomorrow (#VoteWithPurpose).\"\n",
            "\n",
            "(Note: This is just an example of what such content could look like; actual political discussions should remain respectful.)\n",
            "\n",
            "\n",
            "Tuned Model ------\n",
            " US President Joe Biden and his team should really think twice before trying to run for another term in November's election, #USelection2024... 🇺🇸😕#UniteBlue#UnitedStatesOfAmerica✌️ #WalkAwayFromDemocrats pic.twitter.com/ZjR7F59GvB\n"
          ]
        }
      ],
      "source": [
        "get_the_tweet(\"Can you generate a tweet about US election 2024?\")\n"
      ],
      "metadata": {
        "ExecuteTime": {
          "end_time": "2024-10-28T15:35:30.305496Z",
          "start_time": "2024-10-28T15:35:21.999188Z"
        },
        "id": "b8f9e1c7abba2232",
        "outputId": "70cc9fef-1e7b-4e60-9aff-7e155c1decf4"
      },
      "id": "b8f9e1c7abba2232",
      "execution_count": null
    },
    {
      "cell_type": "code",
      "outputs": [
        {
          "name": "stderr",
          "output_type": "stream",
          "text": [
            "You seem to be using the pipelines sequentially on GPU. In order to maximize efficiency please use a dataset\n"
          ]
        },
        {
          "name": "stdout",
          "output_type": "stream",
          "text": [
            "Base Model ------\n",
            " \"🏋️‍♂️ Lace up, set your mind right and get ready to crush it! Here's why consistency is key:\n",
            "1/3 Daily workouts boost heart health & mood ❤️ #FitTipDay2567 - Remember that every rep counts towards lifting not just weights but also building confidence within yourself!  🌍 Stay strong in body AND spirit this week ahead of us all!! @HealthyLivingMindset\" (Word count approx.: **48 words**) [Note for clarity on Twitter format constraints]: This response fits into character limits while maintaining engaging content typical of social media advice sharing focused around fit\n",
            "\n",
            "\n",
            "Tuned Model ------\n",
            " I feel so much better since starting my workout plan 😎 #FitnessTips #Livestrong #HealthyLife #DietPlan #GoalSetter #ExerciseJourney #GymMotivation #BellyFatSucks #NoMoreHangover #StayStrong #GetUpAndDoIt #WeAreAllTheBestOfOurselves #BeYourBestSelf #ThisIsWhyYouCanDoAnything ✨💪🏼❤️‍🔥🌞🌞🌞#Wellbeingsuccessfitsnlove_\n"
          ]
        }
      ],
      "source": [
        "get_the_tweet(\"Can you generate a tweet about Fitness tips?\")"
      ],
      "metadata": {
        "ExecuteTime": {
          "end_time": "2024-10-28T15:32:06.926088Z",
          "start_time": "2024-10-28T15:31:55.333540Z"
        },
        "id": "56f18d162491db2e",
        "outputId": "4844f7df-6c3c-4ead-fab6-e890dc9618fe"
      },
      "id": "56f18d162491db2e",
      "execution_count": null
    },
    {
      "cell_type": "code",
      "outputs": [
        {
          "name": "stdout",
          "output_type": "stream",
          "text": [
            "Base Model ------\n",
            " \"🌍 Embracing progress and tradition, #China continues to grow as an economic powerhouse while cherishing its rich cultural heritage & history for generations ahead! 🇨🇳✨\"\n",
            "\n",
            "(Note: The character limit of Twitter is typically around 280 characters; this response was crafted accordingly.)\n",
            "\n",
            "\n",
            "Tuned Model ------\n",
            " I'm seeing more and more Chinese tourists here in Germany, they love it there 🤗 #ChinaGermanyDeutschlandTourismusMadeInGermanLangDasWort#MakeitinGerman #Bundesliga #Beethoven #BeerPong ❣️❨❩❪❫☀️⚽️🎶🇺🇸🍻👌🏾💙 🔵💜 ����������������������\n"
          ]
        }
      ],
      "source": [
        "get_the_tweet(\"Can you generate a tweet about China?\")"
      ],
      "metadata": {
        "ExecuteTime": {
          "end_time": "2024-10-28T15:32:15.606266Z",
          "start_time": "2024-10-28T15:32:06.928204Z"
        },
        "id": "2ac4aab2d281edb7",
        "outputId": "c6f592fa-b3b6-4efb-b28c-d803207817b7"
      },
      "id": "2ac4aab2d281edb7",
      "execution_count": null
    },
    {
      "cell_type": "code",
      "outputs": [
        {
          "name": "stdout",
          "output_type": "stream",
          "text": [
            "Base Model ------\n",
            " \"🌐✈️ Dreaming of your top travel picks for #BestDestinations in '24! From serene beaches to bustling cities, uncover hidden gems & must-see spots that await adventure seekers worldwide this year - stay inspired and plan ahead now! Your next epic journey starts here: [Link]#TravelGoals\"\n",
            "\n",
            "(Note: Replace \"[Link]\" with an actual URL where readers can find more information or inspiration.)\n",
            "\n",
            "\n",
            "Tuned Model ------\n",
            " I need to go on an adventure! Where should i start if not Best Destinations 2024 (https://t.co/T5QDJCWOZi)?????? :p #BestDestinations2024 @user Please help me out!!!!!! :) #adventuresidewaysidlehands #followfriday #travelgoals  🙈✌️🏾❤️‍🔥❣️‍🔥☕️‍🍻👊🏽💃🏽#followmeonigalxdv\n"
          ]
        }
      ],
      "source": [
        "get_the_tweet(\"Can you generate a tweet about Best destinations 2024?\")"
      ],
      "metadata": {
        "ExecuteTime": {
          "end_time": "2024-10-28T15:32:25.616714Z",
          "start_time": "2024-10-28T15:32:15.607967Z"
        },
        "id": "6e658b99a924e830",
        "outputId": "cfb690c1-b1ba-4164-f51a-dbd413ccfc59"
      },
      "id": "6e658b99a924e830",
      "execution_count": null
    },
    {
      "cell_type": "code",
      "outputs": [
        {
          "name": "stdout",
          "output_type": "stream",
          "text": [
            "Base Model ------\n",
            " \"Navigating through turbulent times, many in tech face unexpected career shifts due to recent company downsizing 📉 Let's transform challenges into opportunities for growth and innovation! #TechCareers2023\"\n",
            "\n",
            "(Note: This is an example of how one might address job market changes within social media constraints; actual sentiment may vary depending on context.)\n",
            "\n",
            "\n",
            "Tuned Model ------\n",
            " I’m glad to hear that! I was worried it might be an issue, given how much people were talking in my circles (tech and finance) before we got there 😊❤️ #TechLayoffs2021 #financialindustry #layoffnews #corporateculture #jobs #econ #investing #fidelity #gilmanandrowe #advisors #wealthmanagement #retirementplan#retiretoday #retiredlife… #financialwellness #behindthelockersdesk ….. #followmeonfb @GilmanAndrowehttps://t.co/j5\n"
          ]
        }
      ],
      "source": [
        "get_the_tweet(\"Can you generate a tweet about Tech industry layoffs?\")"
      ],
      "metadata": {
        "ExecuteTime": {
          "end_time": "2024-10-28T15:32:35.508460Z",
          "start_time": "2024-10-28T15:32:26.135358Z"
        },
        "id": "7a97231d7ef39041",
        "outputId": "54327ff0-998d-454c-b96d-13d73e1bb792"
      },
      "id": "7a97231d7ef39041",
      "execution_count": null
    },
    {
      "cell_type": "code",
      "outputs": [
        {
          "name": "stdout",
          "output_type": "stream",
          "text": [
            "Base Model ------\n",
            " \"🎤✨ Blast off on an unforgettable journey! Join us for #TaylorSwift's electrifying worldwide concert series this summer – where magic meets music, and dreamers dance under stars 🌍 Grab your tickets now & let’s make some memories together forevermore! @taylorswift13\"\n",
            "\n",
            "(Note: Twitter handles should be used according to current social media guidelines; \"@taylorswift13 is just illustratively placed here.)*Remember that actual use of real user handle in any public posting must comply strictly following platform policies.*\n",
            "\n",
            "\n",
            "Tuned Model ------\n",
            " Aww wow this is so cute! I want to see her on stage and dance like crazy!! 😍❤️ #TaylorSwift #StillIrrelevantTour @ Rex Theatre in Dallas TX September 26th!!!!     #AwesomeWomenWeAllKnow    #GoalGettingFemale #MostBeautifulInTheWorld   #DanceSlayWithMe      #GirlsCanDoItAndThriveOnLove &amp; LoveEverythingAroundU#NoFilter… via  *Cover: Seth Godin* Thankyou for your support, love...and everything else we have done together\n"
          ]
        }
      ],
      "source": [
        "get_the_tweet(\"Can you generate a tweet about Taylor Swift tour?\")"
      ],
      "metadata": {
        "ExecuteTime": {
          "end_time": "2024-10-28T15:32:49.963452Z",
          "start_time": "2024-10-28T15:32:38.335597Z"
        },
        "id": "a10409b90399052c",
        "outputId": "14baf6fd-e3df-43c7-b4e0-c371d9f2a9e4"
      },
      "id": "a10409b90399052c",
      "execution_count": null
    },
    {
      "cell_type": "code",
      "outputs": [
        {
          "name": "stdout",
          "output_type": "stream",
          "text": [
            "Base Model ------\n",
            " \"🚚 Meet our Global Director @QuentinYIP! Taking charge from CEO's desk & steering #Lalamove through exciting times - driving exceptional experiences for customers worldwide since leaving behind legacy roles like Marketing Communication Leader (@KristiecH). Let him shape your journey into seamless logistics innovation while he masterfully crafts campaign success stories within Asian/LatAm regions – here we go againt all oddsmakers together!!!✨#CustomerExperienceRevolution\"\n",
            "\n",
            "\n",
            "Tuned Model ------\n",
            " I am so happy that someone like him takes up such important roles! We need more people from within our community taking charge & making things happen for us!!!!! #LALAMAVIEWATCHING2021  😍#ThankYouQuincyYippeee!https://t.co/XBjP7Zq35g via ❤️️‍🔥️❤️️‍🔪️❤️️‍🔬️❤️️‍📺️❤️️‍🎧️❤️️‍🕯️❤️\n"
          ]
        }
      ],
      "source": [
        "get_the_tweet(\n",
        "    '''\n",
        "    Instruct:\n",
        "    Generate the tweet based on the query and context.\n",
        "\n",
        "    Query:\n",
        "    Can you generate a tweet about Lalamove?\n",
        "\n",
        "    Context:\n",
        "    Lalamove’s Quincy Yip (pictured) has taken on an expanded role as global director of customer experience and marketing, succeeding Kristie Cheung, who stepped down as global head of marketing communications at Lalamove.\n",
        "\n",
        "    Within his new role, Yip reports to Paul Loo, chief operating officer, Lalamove. On top of managing customer experience across 11 markets in Asia and Latin America including Hong Kong, Singapore, Malaysia, Indonesia and the Philippines, Yip is now leading end-to-end marketing strategies spanning growth marketing, brand positioning, public relations, social and content.\n",
        "    '''\n",
        ")"
      ],
      "metadata": {
        "ExecuteTime": {
          "end_time": "2024-10-28T15:53:54.633865Z",
          "start_time": "2024-10-28T15:53:43.715892Z"
        },
        "id": "2ad90ee28cff13d8",
        "outputId": "9b76ea6c-999e-4b0b-ff03-14c2a6d34445"
      },
      "id": "2ad90ee28cff13d8",
      "execution_count": null
    },
    {
      "cell_type": "code",
      "outputs": [],
      "source": [],
      "metadata": {
        "id": "228e26467159b4b"
      },
      "id": "228e26467159b4b",
      "execution_count": null
    }
  ],
  "metadata": {
    "kernelspec": {
      "display_name": "Python 3",
      "language": "python",
      "name": "python3"
    },
    "language_info": {
      "codemirror_mode": {
        "name": "ipython",
        "version": 2
      },
      "file_extension": ".py",
      "mimetype": "text/x-python",
      "name": "python",
      "nbconvert_exporter": "python",
      "pygments_lexer": "ipython2",
      "version": "2.7.6"
    },
    "colab": {
      "provenance": []
    }
  },
  "nbformat": 4,
  "nbformat_minor": 5
}